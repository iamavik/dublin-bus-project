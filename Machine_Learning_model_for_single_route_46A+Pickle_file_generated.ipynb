{
 "cells": [
  {
   "cell_type": "code",
   "execution_count": null,
   "metadata": {},
   "outputs": [],
   "source": [
    "#Before running the cells,install this 3 pacakges in our virtual env dublinbus:\n",
    "\n",
    "# pip install cryptography\n",
    "# pip install seaborn\n",
    "# pip install sklearn\n"
   ]
  },
  {
   "cell_type": "code",
   "execution_count": null,
   "metadata": {},
   "outputs": [],
   "source": [
    "import pymysql,json\n",
    "def extract_tripsid_46A():\n",
    "\n",
    "    sql = \"select distinct trips100.TRIPID,trips100.LINEID from dublinbus.trips100 where trips100.LINEID='46A' and DAYOFSERVICE like '%DEC%'\"\n",
    "    db = pymysql.connect(host=\"127.0.0.1\",  # your host\n",
    "                         port = 3307,\n",
    "                         user=\"admin\",  # username\n",
    "                         password=\"Ucd-nl-2018\",  # password\n",
    "                         db=\"dublinbus\", # name of the database\n",
    "                        use_unicode=True, \n",
    "                         charset='utf8') \n",
    "\n",
    "\n",
    "    cursor = db.cursor()\n",
    "    cursor.execute(sql)\n",
    "    result = cursor.fetchall()\n",
    "    print(result)\n",
    "    return result"
   ]
  },
  {
   "cell_type": "code",
   "execution_count": null,
   "metadata": {},
   "outputs": [],
   "source": [
    "result = extract_tripsid_46A()"
   ]
  },
  {
   "cell_type": "code",
   "execution_count": null,
   "metadata": {},
   "outputs": [],
   "source": [
    "import pymysql,json\n",
    "def create_list_46A(trip_id):\n",
    "\n",
    "    sql = \" select * from dublinbus.minLeavetimes where TRIPID =%s\" \n",
    "    db = pymysql.connect(host=\"127.0.0.1\",  # your host\n",
    "                         port = 3307,\n",
    "                         user=\"admin\",  # username\n",
    "                         password=\"Ucd-nl-2018\",  # password\n",
    "                         db=\"dublinbus\", # name of the database\n",
    "                        use_unicode=True, \n",
    "                         charset='utf8') \n",
    "\n",
    "\n",
    "    cursor = db.cursor()\n",
    "    cursor.execute(sql,(trip_id,))\n",
    "    result = cursor.fetchall()\n",
    "    print(result)\n",
    "    return result"
   ]
  },
  {
   "cell_type": "code",
   "execution_count": null,
   "metadata": {},
   "outputs": [],
   "source": [
    "full_list_46A = []\n",
    "for i in result:\n",
    "    get_data = create_list_46A(i[0])\n",
    "    full_list_46A.append(get_data)"
   ]
  },
  {
   "cell_type": "code",
   "execution_count": null,
   "metadata": {},
   "outputs": [],
   "source": [
    "len(full_list_46A)"
   ]
  },
  {
   "cell_type": "code",
   "execution_count": null,
   "metadata": {},
   "outputs": [],
   "source": [
    "import numpy as np\n",
    "import pandas as pd\n",
    "# Creating an empty Dataframe with column names only\n",
    "df = pd.DataFrame()\n",
    "for i in full_list_46A:\n",
    "    i = list(i)\n",
    "    df = df.append(i, ignore_index = True)\n"
   ]
  },
  {
   "cell_type": "code",
   "execution_count": null,
   "metadata": {},
   "outputs": [],
   "source": [
    "print(df.tail(186))"
   ]
  },
  {
   "cell_type": "code",
   "execution_count": null,
   "metadata": {},
   "outputs": [],
   "source": [
    "df_46A = df.copy()"
   ]
  },
  {
   "cell_type": "code",
   "execution_count": null,
   "metadata": {},
   "outputs": [],
   "source": [
    "df_46A.drop(df_46A.columns[[1,5,8]],axis=1,inplace=True)"
   ]
  },
  {
   "cell_type": "code",
   "execution_count": null,
   "metadata": {},
   "outputs": [],
   "source": [
    "df_46A.head(5)"
   ]
  },
  {
   "cell_type": "code",
   "execution_count": null,
   "metadata": {},
   "outputs": [],
   "source": [
    "date = df_46A[[0]]"
   ]
  },
  {
   "cell_type": "code",
   "execution_count": null,
   "metadata": {},
   "outputs": [],
   "source": [
    "date = list(date[0])"
   ]
  },
  {
   "cell_type": "code",
   "execution_count": null,
   "metadata": {},
   "outputs": [],
   "source": [
    "date[0]"
   ]
  },
  {
   "cell_type": "code",
   "execution_count": null,
   "metadata": {},
   "outputs": [],
   "source": [
    "extract_date = []\n",
    "for i in date:\n",
    "    new_date = i[0:9]\n",
    "    extract_date.append(new_date)\n",
    "    "
   ]
  },
  {
   "cell_type": "code",
   "execution_count": null,
   "metadata": {},
   "outputs": [],
   "source": [
    "import datetime\n",
    "extract_week_day = []\n",
    "for i in extract_date:\n",
    "    extract_week_day.append(datetime.datetime.strptime(i, '%d-%b-%y').strftime('%A'))"
   ]
  },
  {
   "cell_type": "code",
   "execution_count": null,
   "metadata": {},
   "outputs": [],
   "source": [
    "df_46A = df_46A.assign(Extracted_Date=extract_date)"
   ]
  },
  {
   "cell_type": "code",
   "execution_count": null,
   "metadata": {},
   "outputs": [],
   "source": [
    "df_46A = df_46A.assign(Day=extract_week_day)"
   ]
  },
  {
   "cell_type": "code",
   "execution_count": null,
   "metadata": {},
   "outputs": [],
   "source": [
    "df_46A.rename({0:'DateTime', 2: 'Sequence',3:'StopID',4:'Planned_Arr',6:'Actual_Arr',7:'Actual_Depart'},axis=1,inplace=True)  # new method\n"
   ]
  },
  {
   "cell_type": "code",
   "execution_count": null,
   "metadata": {},
   "outputs": [],
   "source": [
    "df_46A"
   ]
  },
  {
   "cell_type": "code",
   "execution_count": null,
   "metadata": {},
   "outputs": [],
   "source": [
    "#Creating Dummies for the day of the week\n",
    "data_input1= pd.DataFrame(df_46A['Day'])"
   ]
  },
  {
   "cell_type": "code",
   "execution_count": null,
   "metadata": {},
   "outputs": [],
   "source": [
    "dummy=pd.get_dummies(data_input1)"
   ]
  },
  {
   "cell_type": "code",
   "execution_count": null,
   "metadata": {},
   "outputs": [],
   "source": [
    "df_46A=pd.concat([df_46A,dummy],axis=1)"
   ]
  },
  {
   "cell_type": "code",
   "execution_count": null,
   "metadata": {},
   "outputs": [],
   "source": [
    "df_46A.head(5)"
   ]
  },
  {
   "cell_type": "code",
   "execution_count": null,
   "metadata": {},
   "outputs": [],
   "source": [
    "import seaborn as sns\n",
    "from sklearn.linear_model import LinearRegression\n",
    "from sklearn.ensemble import RandomForestRegressor\n",
    "from sklearn.model_selection import train_test_split\n",
    "from sklearn import metrics\n",
    "pd.options.mode.chained_assignment=None\n",
    "%matplotlib inline"
   ]
  },
  {
   "cell_type": "code",
   "execution_count": null,
   "metadata": {},
   "outputs": [],
   "source": [
    "input_to_model=pd.DataFrame(df_46A[['Sequence','StopID','Planned_Arr','Day_Monday','Day_Saturday','Day_Sunday','Day_Thursday','Day_Tuesday','Day_Wednesday']])\n",
    "#Day_Friday has been taken out because if mon-sun all are zeroes that means friday is 1. Using dummy one hot encoding concept\n",
    "#print(input_model)\n",
    "output = df_46A['Actual_Arr']\n",
    "X_train,X_test,Y_train,Y_test=train_test_split(input_to_model,output,test_size=0.33,random_state=42)\n",
    "print (X_train.shape)\n",
    "rf=RandomForestRegressor(n_estimators=100)\n",
    "rf.fit(X_train,Y_train)\n",
    "print(Y_test.shape)"
   ]
  },
  {
   "cell_type": "code",
   "execution_count": null,
   "metadata": {},
   "outputs": [],
   "source": [
    "prediction=rf.predict(X_test)\n",
    "print (prediction)\n",
    "print(Y_test)"
   ]
  },
  {
   "cell_type": "code",
   "execution_count": null,
   "metadata": {},
   "outputs": [],
   "source": [
    "#Model Evaluation Parameters: RMSE\n",
    "print(np.sqrt(metrics.mean_squared_error(Y_test,prediction)))"
   ]
  },
  {
   "cell_type": "code",
   "execution_count": null,
   "metadata": {},
   "outputs": [],
   "source": [
    "#MSLE\n",
    "from sklearn.metrics import mean_squared_log_error\n",
    "mean_squared_log_error(Y_test,prediction)"
   ]
  },
  {
   "cell_type": "code",
   "execution_count": null,
   "metadata": {},
   "outputs": [],
   "source": [
    "import pickle\n",
    "pickle.dump(rf,open('prediction_46A.pickle','wb'))"
   ]
  },
  {
   "cell_type": "code",
   "execution_count": null,
   "metadata": {},
   "outputs": [],
   "source": [
    "#Testing with cPickle to see if its faster to unpickle files in django against pickle. Its what we are using now\n",
    "\n",
    "import _pickle as cPickle\n",
    "import gc\n",
    "cPickle.dump(rf,open('prediction_46A_cPickle.pickle','wb'))"
   ]
  }
 ],
 "metadata": {
  "kernelspec": {
   "display_name": "Python 3",
   "language": "python",
   "name": "python3"
  },
  "language_info": {
   "codemirror_mode": {
    "name": "ipython",
    "version": 3
   },
   "file_extension": ".py",
   "mimetype": "text/x-python",
   "name": "python",
   "nbconvert_exporter": "python",
   "pygments_lexer": "ipython3",
   "version": "3.7.3"
  }
 },
 "nbformat": 4,
 "nbformat_minor": 2
}
