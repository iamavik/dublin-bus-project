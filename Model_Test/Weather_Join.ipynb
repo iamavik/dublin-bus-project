{
 "cells": [
  {
   "cell_type": "markdown",
   "metadata": {},
   "source": [
    "### Import the CSVs being used or you can skip this and use whatever dataframe is loaded in and import the Weather CSV"
   ]
  },
  {
   "cell_type": "code",
   "execution_count": 1,
   "metadata": {},
   "outputs": [],
   "source": [
    "import numpy as np\n",
    "import pandas as pd\n",
    "# read in data from csv file to pandas dataframe.  \n",
    "df_46A = pd.read_csv('df_46A.csv',  keep_default_na=True, sep=',\\s+', delimiter=',', skipinitialspace=True)\n",
    "df_wd = pd.read_csv('weather_data_final.csv',  keep_default_na=True, sep=',\\s+', delimiter=',', skipinitialspace=True)"
   ]
  },
  {
   "cell_type": "markdown",
   "metadata": {},
   "source": [
    "### Quickly rename the headers"
   ]
  },
  {
   "cell_type": "code",
   "execution_count": 2,
   "metadata": {},
   "outputs": [],
   "source": [
    "df_wd.rename({'hourly_data_time':'DateTime','hourly_data_precip_intensity':'Precip Intensity',\n",
    "             'hourly_data_precip_probability':'Precip Prob', 'hourly_data_apparent_temperature':'Temperature',\n",
    "             'hourly_data_wind_speed':'Wind Speed', 'hourly_data_cloud_cover':'Cloud Cover',\n",
    "             'hourly_data_uv_index':'UV Index','hourly_data_visibility':'Visibility'},axis=1,inplace=True)\n"
   ]
  },
  {
   "cell_type": "code",
   "execution_count": 3,
   "metadata": {},
   "outputs": [],
   "source": [
    "# Precip Intensity has a mean ~ 0 so drop as it will skew predicition\n",
    "df_wd_feat = df_wd.drop(columns=['Precip Intensity'])"
   ]
  },
  {
   "cell_type": "markdown",
   "metadata": {},
   "source": [
    "### Now set both columns to datetime for merging later"
   ]
  },
  {
   "cell_type": "code",
   "execution_count": 4,
   "metadata": {},
   "outputs": [],
   "source": [
    "df_wd_feat['DateTime']= pd.to_datetime(df_wd_feat['DateTime'], infer_datetime_format=True) \n",
    "df_46A['DateTime']= pd.to_datetime(df_46A['DateTime'], infer_datetime_format=True) "
   ]
  },
  {
   "cell_type": "markdown",
   "metadata": {},
   "source": [
    "### The mask is used to find all the weather data in December so use this cell to find whatever date range you want"
   ]
  },
  {
   "cell_type": "code",
   "execution_count": 5,
   "metadata": {},
   "outputs": [],
   "source": [
    "mask = (df_wd_feat['DateTime'] > '2018-12-01') & (df_wd_feat['DateTime'] <= '2018-12-31')"
   ]
  },
  {
   "cell_type": "code",
   "execution_count": 6,
   "metadata": {},
   "outputs": [],
   "source": [
    "df_wd_dec = df_wd_feat.loc[mask]"
   ]
  },
  {
   "cell_type": "code",
   "execution_count": 7,
   "metadata": {},
   "outputs": [
    {
     "data": {
      "text/plain": [
       "DateTime          2018-12-24 00:00:00\n",
       "Sequence                           14\n",
       "StopID                           6059\n",
       "Planned_Arr                     54291\n",
       "Actual_Arr                      54158\n",
       "Actual_Depart                   54244\n",
       "Extracted_Date              24-DEC-18\n",
       "Day                            Monday\n",
       "Day_Friday                          0\n",
       "Day_Monday                          1\n",
       "Day_Saturday                        0\n",
       "Day_Sunday                          0\n",
       "Day_Thursday                        0\n",
       "Day_Tuesday                         0\n",
       "Day_Wednesday                       0\n",
       "Name: 0, dtype: object"
      ]
     },
     "execution_count": 7,
     "metadata": {},
     "output_type": "execute_result"
    }
   ],
   "source": [
    "df_46A.iloc[0]"
   ]
  },
  {
   "cell_type": "code",
   "execution_count": 8,
   "metadata": {},
   "outputs": [
    {
     "data": {
      "text/plain": [
       "DateTime       2018-12-24 00:00:00\n",
       "Precip Prob                      0\n",
       "Temperature                  39.46\n",
       "Wind Speed                    5.61\n",
       "Cloud Cover                    0.6\n",
       "UV Index                         0\n",
       "Visibility                    6.22\n",
       "Name: 17319, dtype: object"
      ]
     },
     "execution_count": 8,
     "metadata": {},
     "output_type": "execute_result"
    }
   ],
   "source": [
    "df_wd_dec.iloc[551]"
   ]
  },
  {
   "cell_type": "code",
   "execution_count": 9,
   "metadata": {},
   "outputs": [
    {
     "data": {
      "text/plain": [
       "True"
      ]
     },
     "execution_count": 9,
     "metadata": {},
     "output_type": "execute_result"
    }
   ],
   "source": [
    "df_46A.iloc[0].DateTime == df_wd_dec.iloc[551].DateTime"
   ]
  },
  {
   "cell_type": "markdown",
   "metadata": {},
   "source": [
    "### Pick the correct date to match and then merge the weather rows to the One Hot Encoded rows in the travel data"
   ]
  },
  {
   "cell_type": "code",
   "execution_count": 10,
   "metadata": {},
   "outputs": [],
   "source": [
    "df_46A_merge = pd.merge(df_46A, df_wd_dec, how='outer', on='DateTime')"
   ]
  },
  {
   "cell_type": "code",
   "execution_count": 11,
   "metadata": {},
   "outputs": [
    {
     "data": {
      "text/html": [
       "<div>\n",
       "<style scoped>\n",
       "    .dataframe tbody tr th:only-of-type {\n",
       "        vertical-align: middle;\n",
       "    }\n",
       "\n",
       "    .dataframe tbody tr th {\n",
       "        vertical-align: top;\n",
       "    }\n",
       "\n",
       "    .dataframe thead th {\n",
       "        text-align: right;\n",
       "    }\n",
       "</style>\n",
       "<table border=\"1\" class=\"dataframe\">\n",
       "  <thead>\n",
       "    <tr style=\"text-align: right;\">\n",
       "      <th></th>\n",
       "      <th>DateTime</th>\n",
       "      <th>Sequence</th>\n",
       "      <th>StopID</th>\n",
       "      <th>Planned_Arr</th>\n",
       "      <th>Actual_Arr</th>\n",
       "      <th>Actual_Depart</th>\n",
       "      <th>Extracted_Date</th>\n",
       "      <th>Day</th>\n",
       "      <th>Day_Friday</th>\n",
       "      <th>Day_Monday</th>\n",
       "      <th>...</th>\n",
       "      <th>Day_Sunday</th>\n",
       "      <th>Day_Thursday</th>\n",
       "      <th>Day_Tuesday</th>\n",
       "      <th>Day_Wednesday</th>\n",
       "      <th>Precip Prob</th>\n",
       "      <th>Temperature</th>\n",
       "      <th>Wind Speed</th>\n",
       "      <th>Cloud Cover</th>\n",
       "      <th>UV Index</th>\n",
       "      <th>Visibility</th>\n",
       "    </tr>\n",
       "  </thead>\n",
       "  <tbody>\n",
       "    <tr>\n",
       "      <th>0</th>\n",
       "      <td>2018-12-24</td>\n",
       "      <td>14.0</td>\n",
       "      <td>6059.0</td>\n",
       "      <td>54291.0</td>\n",
       "      <td>54158.0</td>\n",
       "      <td>54244.0</td>\n",
       "      <td>24-DEC-18</td>\n",
       "      <td>Monday</td>\n",
       "      <td>0.0</td>\n",
       "      <td>1.0</td>\n",
       "      <td>...</td>\n",
       "      <td>0.0</td>\n",
       "      <td>0.0</td>\n",
       "      <td>0.0</td>\n",
       "      <td>0.0</td>\n",
       "      <td>0.0</td>\n",
       "      <td>39.46</td>\n",
       "      <td>5.61</td>\n",
       "      <td>0.6</td>\n",
       "      <td>0.0</td>\n",
       "      <td>6.22</td>\n",
       "    </tr>\n",
       "    <tr>\n",
       "      <th>1</th>\n",
       "      <td>2018-12-24</td>\n",
       "      <td>15.0</td>\n",
       "      <td>334.0</td>\n",
       "      <td>54462.0</td>\n",
       "      <td>54348.0</td>\n",
       "      <td>54401.0</td>\n",
       "      <td>24-DEC-18</td>\n",
       "      <td>Monday</td>\n",
       "      <td>0.0</td>\n",
       "      <td>1.0</td>\n",
       "      <td>...</td>\n",
       "      <td>0.0</td>\n",
       "      <td>0.0</td>\n",
       "      <td>0.0</td>\n",
       "      <td>0.0</td>\n",
       "      <td>0.0</td>\n",
       "      <td>39.46</td>\n",
       "      <td>5.61</td>\n",
       "      <td>0.6</td>\n",
       "      <td>0.0</td>\n",
       "      <td>6.22</td>\n",
       "    </tr>\n",
       "    <tr>\n",
       "      <th>2</th>\n",
       "      <td>2018-12-24</td>\n",
       "      <td>16.0</td>\n",
       "      <td>406.0</td>\n",
       "      <td>54728.0</td>\n",
       "      <td>54588.0</td>\n",
       "      <td>54646.0</td>\n",
       "      <td>24-DEC-18</td>\n",
       "      <td>Monday</td>\n",
       "      <td>0.0</td>\n",
       "      <td>1.0</td>\n",
       "      <td>...</td>\n",
       "      <td>0.0</td>\n",
       "      <td>0.0</td>\n",
       "      <td>0.0</td>\n",
       "      <td>0.0</td>\n",
       "      <td>0.0</td>\n",
       "      <td>39.46</td>\n",
       "      <td>5.61</td>\n",
       "      <td>0.6</td>\n",
       "      <td>0.0</td>\n",
       "      <td>6.22</td>\n",
       "    </tr>\n",
       "    <tr>\n",
       "      <th>3</th>\n",
       "      <td>2018-12-24</td>\n",
       "      <td>17.0</td>\n",
       "      <td>747.0</td>\n",
       "      <td>54875.0</td>\n",
       "      <td>54773.0</td>\n",
       "      <td>54820.0</td>\n",
       "      <td>24-DEC-18</td>\n",
       "      <td>Monday</td>\n",
       "      <td>0.0</td>\n",
       "      <td>1.0</td>\n",
       "      <td>...</td>\n",
       "      <td>0.0</td>\n",
       "      <td>0.0</td>\n",
       "      <td>0.0</td>\n",
       "      <td>0.0</td>\n",
       "      <td>0.0</td>\n",
       "      <td>39.46</td>\n",
       "      <td>5.61</td>\n",
       "      <td>0.6</td>\n",
       "      <td>0.0</td>\n",
       "      <td>6.22</td>\n",
       "    </tr>\n",
       "    <tr>\n",
       "      <th>4</th>\n",
       "      <td>2018-12-24</td>\n",
       "      <td>18.0</td>\n",
       "      <td>842.0</td>\n",
       "      <td>54961.0</td>\n",
       "      <td>54964.0</td>\n",
       "      <td>54983.0</td>\n",
       "      <td>24-DEC-18</td>\n",
       "      <td>Monday</td>\n",
       "      <td>0.0</td>\n",
       "      <td>1.0</td>\n",
       "      <td>...</td>\n",
       "      <td>0.0</td>\n",
       "      <td>0.0</td>\n",
       "      <td>0.0</td>\n",
       "      <td>0.0</td>\n",
       "      <td>0.0</td>\n",
       "      <td>39.46</td>\n",
       "      <td>5.61</td>\n",
       "      <td>0.6</td>\n",
       "      <td>0.0</td>\n",
       "      <td>6.22</td>\n",
       "    </tr>\n",
       "  </tbody>\n",
       "</table>\n",
       "<p>5 rows × 21 columns</p>\n",
       "</div>"
      ],
      "text/plain": [
       "    DateTime  Sequence  StopID  Planned_Arr  Actual_Arr  Actual_Depart  \\\n",
       "0 2018-12-24      14.0  6059.0      54291.0     54158.0        54244.0   \n",
       "1 2018-12-24      15.0   334.0      54462.0     54348.0        54401.0   \n",
       "2 2018-12-24      16.0   406.0      54728.0     54588.0        54646.0   \n",
       "3 2018-12-24      17.0   747.0      54875.0     54773.0        54820.0   \n",
       "4 2018-12-24      18.0   842.0      54961.0     54964.0        54983.0   \n",
       "\n",
       "  Extracted_Date     Day  Day_Friday  Day_Monday  ...  Day_Sunday  \\\n",
       "0      24-DEC-18  Monday         0.0         1.0  ...         0.0   \n",
       "1      24-DEC-18  Monday         0.0         1.0  ...         0.0   \n",
       "2      24-DEC-18  Monday         0.0         1.0  ...         0.0   \n",
       "3      24-DEC-18  Monday         0.0         1.0  ...         0.0   \n",
       "4      24-DEC-18  Monday         0.0         1.0  ...         0.0   \n",
       "\n",
       "   Day_Thursday  Day_Tuesday  Day_Wednesday  Precip Prob  Temperature  \\\n",
       "0           0.0          0.0            0.0          0.0        39.46   \n",
       "1           0.0          0.0            0.0          0.0        39.46   \n",
       "2           0.0          0.0            0.0          0.0        39.46   \n",
       "3           0.0          0.0            0.0          0.0        39.46   \n",
       "4           0.0          0.0            0.0          0.0        39.46   \n",
       "\n",
       "   Wind Speed  Cloud Cover  UV Index  Visibility  \n",
       "0        5.61          0.6       0.0        6.22  \n",
       "1        5.61          0.6       0.0        6.22  \n",
       "2        5.61          0.6       0.0        6.22  \n",
       "3        5.61          0.6       0.0        6.22  \n",
       "4        5.61          0.6       0.0        6.22  \n",
       "\n",
       "[5 rows x 21 columns]"
      ]
     },
     "execution_count": 11,
     "metadata": {},
     "output_type": "execute_result"
    }
   ],
   "source": [
    "df_46A_merge.head(5)"
   ]
  },
  {
   "cell_type": "code",
   "execution_count": 12,
   "metadata": {},
   "outputs": [],
   "source": [
    "# The weather data contains NaN values so replacing with the mean\n",
    "df_46A_merge = df_46A_merge.fillna(df_46A_merge.mean())"
   ]
  },
  {
   "cell_type": "code",
   "execution_count": 13,
   "metadata": {},
   "outputs": [
    {
     "data": {
      "text/html": [
       "<div>\n",
       "<style scoped>\n",
       "    .dataframe tbody tr th:only-of-type {\n",
       "        vertical-align: middle;\n",
       "    }\n",
       "\n",
       "    .dataframe tbody tr th {\n",
       "        vertical-align: top;\n",
       "    }\n",
       "\n",
       "    .dataframe thead th {\n",
       "        text-align: right;\n",
       "    }\n",
       "</style>\n",
       "<table border=\"1\" class=\"dataframe\">\n",
       "  <thead>\n",
       "    <tr style=\"text-align: right;\">\n",
       "      <th></th>\n",
       "      <th>DateTime</th>\n",
       "      <th>Sequence</th>\n",
       "      <th>StopID</th>\n",
       "      <th>Planned_Arr</th>\n",
       "      <th>Actual_Arr</th>\n",
       "      <th>Actual_Depart</th>\n",
       "      <th>Extracted_Date</th>\n",
       "      <th>Day</th>\n",
       "      <th>Day_Friday</th>\n",
       "      <th>Day_Monday</th>\n",
       "      <th>...</th>\n",
       "      <th>Day_Sunday</th>\n",
       "      <th>Day_Thursday</th>\n",
       "      <th>Day_Tuesday</th>\n",
       "      <th>Day_Wednesday</th>\n",
       "      <th>Precip Prob</th>\n",
       "      <th>Temperature</th>\n",
       "      <th>Wind Speed</th>\n",
       "      <th>Cloud Cover</th>\n",
       "      <th>UV Index</th>\n",
       "      <th>Visibility</th>\n",
       "    </tr>\n",
       "  </thead>\n",
       "  <tbody>\n",
       "    <tr>\n",
       "      <th>0</th>\n",
       "      <td>2018-12-24</td>\n",
       "      <td>14.0</td>\n",
       "      <td>6059.0</td>\n",
       "      <td>54291.0</td>\n",
       "      <td>54158.0</td>\n",
       "      <td>54244.0</td>\n",
       "      <td>24-DEC-18</td>\n",
       "      <td>Monday</td>\n",
       "      <td>0.0</td>\n",
       "      <td>1.0</td>\n",
       "      <td>...</td>\n",
       "      <td>0.0</td>\n",
       "      <td>0.0</td>\n",
       "      <td>0.0</td>\n",
       "      <td>0.0</td>\n",
       "      <td>0.0</td>\n",
       "      <td>39.46</td>\n",
       "      <td>5.61</td>\n",
       "      <td>0.6</td>\n",
       "      <td>0.0</td>\n",
       "      <td>6.22</td>\n",
       "    </tr>\n",
       "    <tr>\n",
       "      <th>1</th>\n",
       "      <td>2018-12-24</td>\n",
       "      <td>15.0</td>\n",
       "      <td>334.0</td>\n",
       "      <td>54462.0</td>\n",
       "      <td>54348.0</td>\n",
       "      <td>54401.0</td>\n",
       "      <td>24-DEC-18</td>\n",
       "      <td>Monday</td>\n",
       "      <td>0.0</td>\n",
       "      <td>1.0</td>\n",
       "      <td>...</td>\n",
       "      <td>0.0</td>\n",
       "      <td>0.0</td>\n",
       "      <td>0.0</td>\n",
       "      <td>0.0</td>\n",
       "      <td>0.0</td>\n",
       "      <td>39.46</td>\n",
       "      <td>5.61</td>\n",
       "      <td>0.6</td>\n",
       "      <td>0.0</td>\n",
       "      <td>6.22</td>\n",
       "    </tr>\n",
       "    <tr>\n",
       "      <th>2</th>\n",
       "      <td>2018-12-24</td>\n",
       "      <td>16.0</td>\n",
       "      <td>406.0</td>\n",
       "      <td>54728.0</td>\n",
       "      <td>54588.0</td>\n",
       "      <td>54646.0</td>\n",
       "      <td>24-DEC-18</td>\n",
       "      <td>Monday</td>\n",
       "      <td>0.0</td>\n",
       "      <td>1.0</td>\n",
       "      <td>...</td>\n",
       "      <td>0.0</td>\n",
       "      <td>0.0</td>\n",
       "      <td>0.0</td>\n",
       "      <td>0.0</td>\n",
       "      <td>0.0</td>\n",
       "      <td>39.46</td>\n",
       "      <td>5.61</td>\n",
       "      <td>0.6</td>\n",
       "      <td>0.0</td>\n",
       "      <td>6.22</td>\n",
       "    </tr>\n",
       "    <tr>\n",
       "      <th>3</th>\n",
       "      <td>2018-12-24</td>\n",
       "      <td>17.0</td>\n",
       "      <td>747.0</td>\n",
       "      <td>54875.0</td>\n",
       "      <td>54773.0</td>\n",
       "      <td>54820.0</td>\n",
       "      <td>24-DEC-18</td>\n",
       "      <td>Monday</td>\n",
       "      <td>0.0</td>\n",
       "      <td>1.0</td>\n",
       "      <td>...</td>\n",
       "      <td>0.0</td>\n",
       "      <td>0.0</td>\n",
       "      <td>0.0</td>\n",
       "      <td>0.0</td>\n",
       "      <td>0.0</td>\n",
       "      <td>39.46</td>\n",
       "      <td>5.61</td>\n",
       "      <td>0.6</td>\n",
       "      <td>0.0</td>\n",
       "      <td>6.22</td>\n",
       "    </tr>\n",
       "    <tr>\n",
       "      <th>4</th>\n",
       "      <td>2018-12-24</td>\n",
       "      <td>18.0</td>\n",
       "      <td>842.0</td>\n",
       "      <td>54961.0</td>\n",
       "      <td>54964.0</td>\n",
       "      <td>54983.0</td>\n",
       "      <td>24-DEC-18</td>\n",
       "      <td>Monday</td>\n",
       "      <td>0.0</td>\n",
       "      <td>1.0</td>\n",
       "      <td>...</td>\n",
       "      <td>0.0</td>\n",
       "      <td>0.0</td>\n",
       "      <td>0.0</td>\n",
       "      <td>0.0</td>\n",
       "      <td>0.0</td>\n",
       "      <td>39.46</td>\n",
       "      <td>5.61</td>\n",
       "      <td>0.6</td>\n",
       "      <td>0.0</td>\n",
       "      <td>6.22</td>\n",
       "    </tr>\n",
       "  </tbody>\n",
       "</table>\n",
       "<p>5 rows × 21 columns</p>\n",
       "</div>"
      ],
      "text/plain": [
       "    DateTime  Sequence  StopID  Planned_Arr  Actual_Arr  Actual_Depart  \\\n",
       "0 2018-12-24      14.0  6059.0      54291.0     54158.0        54244.0   \n",
       "1 2018-12-24      15.0   334.0      54462.0     54348.0        54401.0   \n",
       "2 2018-12-24      16.0   406.0      54728.0     54588.0        54646.0   \n",
       "3 2018-12-24      17.0   747.0      54875.0     54773.0        54820.0   \n",
       "4 2018-12-24      18.0   842.0      54961.0     54964.0        54983.0   \n",
       "\n",
       "  Extracted_Date     Day  Day_Friday  Day_Monday  ...  Day_Sunday  \\\n",
       "0      24-DEC-18  Monday         0.0         1.0  ...         0.0   \n",
       "1      24-DEC-18  Monday         0.0         1.0  ...         0.0   \n",
       "2      24-DEC-18  Monday         0.0         1.0  ...         0.0   \n",
       "3      24-DEC-18  Monday         0.0         1.0  ...         0.0   \n",
       "4      24-DEC-18  Monday         0.0         1.0  ...         0.0   \n",
       "\n",
       "   Day_Thursday  Day_Tuesday  Day_Wednesday  Precip Prob  Temperature  \\\n",
       "0           0.0          0.0            0.0          0.0        39.46   \n",
       "1           0.0          0.0            0.0          0.0        39.46   \n",
       "2           0.0          0.0            0.0          0.0        39.46   \n",
       "3           0.0          0.0            0.0          0.0        39.46   \n",
       "4           0.0          0.0            0.0          0.0        39.46   \n",
       "\n",
       "   Wind Speed  Cloud Cover  UV Index  Visibility  \n",
       "0        5.61          0.6       0.0        6.22  \n",
       "1        5.61          0.6       0.0        6.22  \n",
       "2        5.61          0.6       0.0        6.22  \n",
       "3        5.61          0.6       0.0        6.22  \n",
       "4        5.61          0.6       0.0        6.22  \n",
       "\n",
       "[5 rows x 21 columns]"
      ]
     },
     "execution_count": 13,
     "metadata": {},
     "output_type": "execute_result"
    }
   ],
   "source": [
    "df_46A_merge.head(5)"
   ]
  },
  {
   "cell_type": "markdown",
   "metadata": {},
   "source": [
    "## Check if they were merged correctly"
   ]
  }
 ],
 "metadata": {
  "kernelspec": {
   "display_name": "Python 3",
   "language": "python",
   "name": "python3"
  },
  "language_info": {
   "codemirror_mode": {
    "name": "ipython",
    "version": 3
   },
   "file_extension": ".py",
   "mimetype": "text/x-python",
   "name": "python",
   "nbconvert_exporter": "python",
   "pygments_lexer": "ipython3",
   "version": "3.7.1"
  }
 },
 "nbformat": 4,
 "nbformat_minor": 2
}
