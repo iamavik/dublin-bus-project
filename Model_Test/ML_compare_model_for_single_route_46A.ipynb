{
  "cells": [
    {
      "cell_type": "markdown",
      "metadata": {
        "pycharm": {}
      },
      "source": [
        "# The other ML notebook contains the means to get the data from the SQL Workbench\n",
        "## This has been made into a CSV for the means of running tests on different models"
      ]
    },
    {
      "cell_type": "code",
      "execution_count": 1,
      "metadata": {
        "pycharm": {}
      },
      "outputs": [],
      "source": [
        "import numpy as np\n",
        "import pandas as pd\n",
        "# read in data from csv file to pandas dataframe.  \n",
        "df_46A \u003d pd.read_csv(\u0027df_46A.csv\u0027,  keep_default_na\u003dTrue, sep\u003d\u0027,\\s+\u0027, delimiter\u003d\u0027,\u0027, skipinitialspace\u003dTrue)\n",
        "df_wd \u003d pd.read_csv(\u0027weather_data_final.csv\u0027,  keep_default_na\u003dTrue, sep\u003d\u0027,\\s+\u0027, delimiter\u003d\u0027,\u0027, skipinitialspace\u003dTrue)"
      ]
    },
    {
      "cell_type": "code",
      "execution_count": 2,
      "metadata": {
        "pycharm": {}
      },
      "outputs": [
        {
          "data": {
            "text/plain": [
              "(241967, 15)"
            ]
          },
          "execution_count": 2,
          "metadata": {},
          "output_type": "execute_result"
        }
      ],
      "source": [
        "df_46A.shape"
      ]
    },
    {
      "cell_type": "code",
      "execution_count": 3,
      "metadata": {
        "scrolled": false,
        "pycharm": {}
      },
      "outputs": [
        {
          "data": {
            "text/html": [
              "\u003cdiv\u003e\n",
              "\u003cstyle scoped\u003e\n",
              "    .dataframe tbody tr th:only-of-type {\n",
              "        vertical-align: middle;\n",
              "    }\n",
              "\n",
              "    .dataframe tbody tr th {\n",
              "        vertical-align: top;\n",
              "    }\n",
              "\n",
              "    .dataframe thead th {\n",
              "        text-align: right;\n",
              "    }\n",
              "\u003c/style\u003e\n",
              "\u003ctable border\u003d\"1\" class\u003d\"dataframe\"\u003e\n",
              "  \u003cthead\u003e\n",
              "    \u003ctr style\u003d\"text-align: right;\"\u003e\n",
              "      \u003cth\u003e\u003c/th\u003e\n",
              "      \u003cth\u003eDateTime\u003c/th\u003e\n",
              "      \u003cth\u003eSequence\u003c/th\u003e\n",
              "      \u003cth\u003eStopID\u003c/th\u003e\n",
              "      \u003cth\u003ePlanned_Arr\u003c/th\u003e\n",
              "      \u003cth\u003eActual_Arr\u003c/th\u003e\n",
              "      \u003cth\u003eActual_Depart\u003c/th\u003e\n",
              "      \u003cth\u003eExtracted_Date\u003c/th\u003e\n",
              "      \u003cth\u003eDay\u003c/th\u003e\n",
              "      \u003cth\u003eDay_Friday\u003c/th\u003e\n",
              "      \u003cth\u003eDay_Monday\u003c/th\u003e\n",
              "      \u003cth\u003eDay_Saturday\u003c/th\u003e\n",
              "      \u003cth\u003eDay_Sunday\u003c/th\u003e\n",
              "      \u003cth\u003eDay_Thursday\u003c/th\u003e\n",
              "      \u003cth\u003eDay_Tuesday\u003c/th\u003e\n",
              "      \u003cth\u003eDay_Wednesday\u003c/th\u003e\n",
              "    \u003c/tr\u003e\n",
              "  \u003c/thead\u003e\n",
              "  \u003ctbody\u003e\n",
              "    \u003ctr\u003e\n",
              "      \u003cth\u003e0\u003c/th\u003e\n",
              "      \u003ctd\u003e24-DEC-18 00:00:00\u003c/td\u003e\n",
              "      \u003ctd\u003e14\u003c/td\u003e\n",
              "      \u003ctd\u003e6059\u003c/td\u003e\n",
              "      \u003ctd\u003e54291\u003c/td\u003e\n",
              "      \u003ctd\u003e54158\u003c/td\u003e\n",
              "      \u003ctd\u003e54244\u003c/td\u003e\n",
              "      \u003ctd\u003e24-DEC-18\u003c/td\u003e\n",
              "      \u003ctd\u003eMonday\u003c/td\u003e\n",
              "      \u003ctd\u003e0\u003c/td\u003e\n",
              "      \u003ctd\u003e1\u003c/td\u003e\n",
              "      \u003ctd\u003e0\u003c/td\u003e\n",
              "      \u003ctd\u003e0\u003c/td\u003e\n",
              "      \u003ctd\u003e0\u003c/td\u003e\n",
              "      \u003ctd\u003e0\u003c/td\u003e\n",
              "      \u003ctd\u003e0\u003c/td\u003e\n",
              "    \u003c/tr\u003e\n",
              "    \u003ctr\u003e\n",
              "      \u003cth\u003e1\u003c/th\u003e\n",
              "      \u003ctd\u003e24-DEC-18 00:00:00\u003c/td\u003e\n",
              "      \u003ctd\u003e15\u003c/td\u003e\n",
              "      \u003ctd\u003e334\u003c/td\u003e\n",
              "      \u003ctd\u003e54462\u003c/td\u003e\n",
              "      \u003ctd\u003e54348\u003c/td\u003e\n",
              "      \u003ctd\u003e54401\u003c/td\u003e\n",
              "      \u003ctd\u003e24-DEC-18\u003c/td\u003e\n",
              "      \u003ctd\u003eMonday\u003c/td\u003e\n",
              "      \u003ctd\u003e0\u003c/td\u003e\n",
              "      \u003ctd\u003e1\u003c/td\u003e\n",
              "      \u003ctd\u003e0\u003c/td\u003e\n",
              "      \u003ctd\u003e0\u003c/td\u003e\n",
              "      \u003ctd\u003e0\u003c/td\u003e\n",
              "      \u003ctd\u003e0\u003c/td\u003e\n",
              "      \u003ctd\u003e0\u003c/td\u003e\n",
              "    \u003c/tr\u003e\n",
              "    \u003ctr\u003e\n",
              "      \u003cth\u003e2\u003c/th\u003e\n",
              "      \u003ctd\u003e24-DEC-18 00:00:00\u003c/td\u003e\n",
              "      \u003ctd\u003e16\u003c/td\u003e\n",
              "      \u003ctd\u003e406\u003c/td\u003e\n",
              "      \u003ctd\u003e54728\u003c/td\u003e\n",
              "      \u003ctd\u003e54588\u003c/td\u003e\n",
              "      \u003ctd\u003e54646\u003c/td\u003e\n",
              "      \u003ctd\u003e24-DEC-18\u003c/td\u003e\n",
              "      \u003ctd\u003eMonday\u003c/td\u003e\n",
              "      \u003ctd\u003e0\u003c/td\u003e\n",
              "      \u003ctd\u003e1\u003c/td\u003e\n",
              "      \u003ctd\u003e0\u003c/td\u003e\n",
              "      \u003ctd\u003e0\u003c/td\u003e\n",
              "      \u003ctd\u003e0\u003c/td\u003e\n",
              "      \u003ctd\u003e0\u003c/td\u003e\n",
              "      \u003ctd\u003e0\u003c/td\u003e\n",
              "    \u003c/tr\u003e\n",
              "    \u003ctr\u003e\n",
              "      \u003cth\u003e3\u003c/th\u003e\n",
              "      \u003ctd\u003e24-DEC-18 00:00:00\u003c/td\u003e\n",
              "      \u003ctd\u003e17\u003c/td\u003e\n",
              "      \u003ctd\u003e747\u003c/td\u003e\n",
              "      \u003ctd\u003e54875\u003c/td\u003e\n",
              "      \u003ctd\u003e54773\u003c/td\u003e\n",
              "      \u003ctd\u003e54820\u003c/td\u003e\n",
              "      \u003ctd\u003e24-DEC-18\u003c/td\u003e\n",
              "      \u003ctd\u003eMonday\u003c/td\u003e\n",
              "      \u003ctd\u003e0\u003c/td\u003e\n",
              "      \u003ctd\u003e1\u003c/td\u003e\n",
              "      \u003ctd\u003e0\u003c/td\u003e\n",
              "      \u003ctd\u003e0\u003c/td\u003e\n",
              "      \u003ctd\u003e0\u003c/td\u003e\n",
              "      \u003ctd\u003e0\u003c/td\u003e\n",
              "      \u003ctd\u003e0\u003c/td\u003e\n",
              "    \u003c/tr\u003e\n",
              "    \u003ctr\u003e\n",
              "      \u003cth\u003e4\u003c/th\u003e\n",
              "      \u003ctd\u003e24-DEC-18 00:00:00\u003c/td\u003e\n",
              "      \u003ctd\u003e18\u003c/td\u003e\n",
              "      \u003ctd\u003e842\u003c/td\u003e\n",
              "      \u003ctd\u003e54961\u003c/td\u003e\n",
              "      \u003ctd\u003e54964\u003c/td\u003e\n",
              "      \u003ctd\u003e54983\u003c/td\u003e\n",
              "      \u003ctd\u003e24-DEC-18\u003c/td\u003e\n",
              "      \u003ctd\u003eMonday\u003c/td\u003e\n",
              "      \u003ctd\u003e0\u003c/td\u003e\n",
              "      \u003ctd\u003e1\u003c/td\u003e\n",
              "      \u003ctd\u003e0\u003c/td\u003e\n",
              "      \u003ctd\u003e0\u003c/td\u003e\n",
              "      \u003ctd\u003e0\u003c/td\u003e\n",
              "      \u003ctd\u003e0\u003c/td\u003e\n",
              "      \u003ctd\u003e0\u003c/td\u003e\n",
              "    \u003c/tr\u003e\n",
              "  \u003c/tbody\u003e\n",
              "\u003c/table\u003e\n",
              "\u003c/div\u003e"
            ],
            "text/plain": [
              "             DateTime  Sequence  StopID  Planned_Arr  Actual_Arr  \\\n",
              "0  24-DEC-18 00:00:00        14    6059        54291       54158   \n",
              "1  24-DEC-18 00:00:00        15     334        54462       54348   \n",
              "2  24-DEC-18 00:00:00        16     406        54728       54588   \n",
              "3  24-DEC-18 00:00:00        17     747        54875       54773   \n",
              "4  24-DEC-18 00:00:00        18     842        54961       54964   \n",
              "\n",
              "   Actual_Depart Extracted_Date     Day  Day_Friday  Day_Monday  Day_Saturday  \\\n",
              "0          54244      24-DEC-18  Monday           0           1             0   \n",
              "1          54401      24-DEC-18  Monday           0           1             0   \n",
              "2          54646      24-DEC-18  Monday           0           1             0   \n",
              "3          54820      24-DEC-18  Monday           0           1             0   \n",
              "4          54983      24-DEC-18  Monday           0           1             0   \n",
              "\n",
              "   Day_Sunday  Day_Thursday  Day_Tuesday  Day_Wednesday  \n",
              "0           0             0            0              0  \n",
              "1           0             0            0              0  \n",
              "2           0             0            0              0  \n",
              "3           0             0            0              0  \n",
              "4           0             0            0              0  "
            ]
          },
          "execution_count": 3,
          "metadata": {},
          "output_type": "execute_result"
        }
      ],
      "source": [
        "df_46A.head(5)"
      ]
    },
    {
      "cell_type": "code",
      "execution_count": 4,
      "metadata": {
        "pycharm": {}
      },
      "outputs": [
        {
          "data": {
            "text/plain": [
              "(21686, 8)"
            ]
          },
          "execution_count": 4,
          "metadata": {},
          "output_type": "execute_result"
        }
      ],
      "source": [
        "df_wd.shape"
      ]
    },
    {
      "cell_type": "markdown",
      "metadata": {
        "pycharm": {}
      },
      "source": [
        "### Right, now let\u0027s add the weather data and organize the new input features"
      ]
    },
    {
      "cell_type": "code",
      "execution_count": 5,
      "metadata": {
        "scrolled": true,
        "pycharm": {}
      },
      "outputs": [
        {
          "data": {
            "text/html": [
              "\u003cdiv\u003e\n",
              "\u003cstyle scoped\u003e\n",
              "    .dataframe tbody tr th:only-of-type {\n",
              "        vertical-align: middle;\n",
              "    }\n",
              "\n",
              "    .dataframe tbody tr th {\n",
              "        vertical-align: top;\n",
              "    }\n",
              "\n",
              "    .dataframe thead th {\n",
              "        text-align: right;\n",
              "    }\n",
              "\u003c/style\u003e\n",
              "\u003ctable border\u003d\"1\" class\u003d\"dataframe\"\u003e\n",
              "  \u003cthead\u003e\n",
              "    \u003ctr style\u003d\"text-align: right;\"\u003e\n",
              "      \u003cth\u003e\u003c/th\u003e\n",
              "      \u003cth\u003ehourly_data_time\u003c/th\u003e\n",
              "      \u003cth\u003ehourly_data_precip_intensity\u003c/th\u003e\n",
              "      \u003cth\u003ehourly_data_precip_probability\u003c/th\u003e\n",
              "      \u003cth\u003ehourly_data_apparent_temperature\u003c/th\u003e\n",
              "      \u003cth\u003ehourly_data_wind_speed\u003c/th\u003e\n",
              "      \u003cth\u003ehourly_data_cloud_cover\u003c/th\u003e\n",
              "      \u003cth\u003ehourly_data_uv_index\u003c/th\u003e\n",
              "      \u003cth\u003ehourly_data_visibility\u003c/th\u003e\n",
              "    \u003c/tr\u003e\n",
              "  \u003c/thead\u003e\n",
              "  \u003ctbody\u003e\n",
              "    \u003ctr\u003e\n",
              "      \u003cth\u003e0\u003c/th\u003e\n",
              "      \u003ctd\u003e2017-01-01 00:00:00\u003c/td\u003e\n",
              "      \u003ctd\u003e0.0\u003c/td\u003e\n",
              "      \u003ctd\u003e0.0\u003c/td\u003e\n",
              "      \u003ctd\u003e39.72\u003c/td\u003e\n",
              "      \u003ctd\u003e7.03\u003c/td\u003e\n",
              "      \u003ctd\u003e0.75\u003c/td\u003e\n",
              "      \u003ctd\u003e0.0\u003c/td\u003e\n",
              "      \u003ctd\u003e6.216\u003c/td\u003e\n",
              "    \u003c/tr\u003e\n",
              "    \u003ctr\u003e\n",
              "      \u003cth\u003e1\u003c/th\u003e\n",
              "      \u003ctd\u003e2017-01-01 01:00:00\u003c/td\u003e\n",
              "      \u003ctd\u003e0.0\u003c/td\u003e\n",
              "      \u003ctd\u003e0.0\u003c/td\u003e\n",
              "      \u003ctd\u003e39.79\u003c/td\u003e\n",
              "      \u003ctd\u003e3.84\u003c/td\u003e\n",
              "      \u003ctd\u003e0.75\u003c/td\u003e\n",
              "      \u003ctd\u003e0.0\u003c/td\u003e\n",
              "      \u003ctd\u003e5.049\u003c/td\u003e\n",
              "    \u003c/tr\u003e\n",
              "    \u003ctr\u003e\n",
              "      \u003cth\u003e2\u003c/th\u003e\n",
              "      \u003ctd\u003e2017-01-01 02:00:00\u003c/td\u003e\n",
              "      \u003ctd\u003e0.0\u003c/td\u003e\n",
              "      \u003ctd\u003e0.0\u003c/td\u003e\n",
              "      \u003ctd\u003e38.21\u003c/td\u003e\n",
              "      \u003ctd\u003e5.91\u003c/td\u003e\n",
              "      \u003ctd\u003e0.75\u003c/td\u003e\n",
              "      \u003ctd\u003e0.0\u003c/td\u003e\n",
              "      \u003ctd\u003e6.216\u003c/td\u003e\n",
              "    \u003c/tr\u003e\n",
              "    \u003ctr\u003e\n",
              "      \u003cth\u003e3\u003c/th\u003e\n",
              "      \u003ctd\u003e2017-01-01 03:00:00\u003c/td\u003e\n",
              "      \u003ctd\u003e0.0\u003c/td\u003e\n",
              "      \u003ctd\u003e0.0\u003c/td\u003e\n",
              "      \u003ctd\u003e37.28\u003c/td\u003e\n",
              "      \u003ctd\u003e7.53\u003c/td\u003e\n",
              "      \u003ctd\u003e0.75\u003c/td\u003e\n",
              "      \u003ctd\u003e0.0\u003c/td\u003e\n",
              "      \u003ctd\u003e6.216\u003c/td\u003e\n",
              "    \u003c/tr\u003e\n",
              "    \u003ctr\u003e\n",
              "      \u003cth\u003e4\u003c/th\u003e\n",
              "      \u003ctd\u003e2017-01-01 04:00:00\u003c/td\u003e\n",
              "      \u003ctd\u003e0.0\u003c/td\u003e\n",
              "      \u003ctd\u003e0.0\u003c/td\u003e\n",
              "      \u003ctd\u003e35.74\u003c/td\u003e\n",
              "      \u003ctd\u003e6.47\u003c/td\u003e\n",
              "      \u003ctd\u003e0.75\u003c/td\u003e\n",
              "      \u003ctd\u003e0.0\u003c/td\u003e\n",
              "      \u003ctd\u003e6.216\u003c/td\u003e\n",
              "    \u003c/tr\u003e\n",
              "  \u003c/tbody\u003e\n",
              "\u003c/table\u003e\n",
              "\u003c/div\u003e"
            ],
            "text/plain": [
              "      hourly_data_time  hourly_data_precip_intensity  \\\n",
              "0  2017-01-01 00:00:00                           0.0   \n",
              "1  2017-01-01 01:00:00                           0.0   \n",
              "2  2017-01-01 02:00:00                           0.0   \n",
              "3  2017-01-01 03:00:00                           0.0   \n",
              "4  2017-01-01 04:00:00                           0.0   \n",
              "\n",
              "   hourly_data_precip_probability  hourly_data_apparent_temperature  \\\n",
              "0                             0.0                             39.72   \n",
              "1                             0.0                             39.79   \n",
              "2                             0.0                             38.21   \n",
              "3                             0.0                             37.28   \n",
              "4                             0.0                             35.74   \n",
              "\n",
              "   hourly_data_wind_speed  hourly_data_cloud_cover  hourly_data_uv_index  \\\n",
              "0                    7.03                     0.75                   0.0   \n",
              "1                    3.84                     0.75                   0.0   \n",
              "2                    5.91                     0.75                   0.0   \n",
              "3                    7.53                     0.75                   0.0   \n",
              "4                    6.47                     0.75                   0.0   \n",
              "\n",
              "   hourly_data_visibility  \n",
              "0                   6.216  \n",
              "1                   5.049  \n",
              "2                   6.216  \n",
              "3                   6.216  \n",
              "4                   6.216  "
            ]
          },
          "execution_count": 5,
          "metadata": {},
          "output_type": "execute_result"
        }
      ],
      "source": [
        "df_wd.head(5)"
      ]
    },
    {
      "cell_type": "code",
      "execution_count": 6,
      "metadata": {
        "pycharm": {}
      },
      "outputs": [],
      "source": [
        "df_wd.rename({\u0027hourly_data_time\u0027:\u0027DateTime\u0027,\u0027hourly_data_precip_intensity\u0027:\u0027Precip Intensity\u0027,\n",
        "             \u0027hourly_data_precip_probability\u0027:\u0027Precip Prob\u0027, \u0027hourly_data_apparent_temperature\u0027:\u0027Temperature\u0027,\n",
        "             \u0027hourly_data_wind_speed\u0027:\u0027Wind Speed\u0027, \u0027hourly_data_cloud_cover\u0027:\u0027Cloud Cover\u0027,\n",
        "             \u0027hourly_data_uv_index\u0027:\u0027UV Index\u0027,\u0027hourly_data_visibility\u0027:\u0027Visibility\u0027},axis\u003d1,inplace\u003dTrue)\n"
      ]
    },
    {
      "cell_type": "code",
      "execution_count": 7,
      "metadata": {
        "pycharm": {}
      },
      "outputs": [
        {
          "data": {
            "text/html": [
              "\u003cdiv\u003e\n",
              "\u003cstyle scoped\u003e\n",
              "    .dataframe tbody tr th:only-of-type {\n",
              "        vertical-align: middle;\n",
              "    }\n",
              "\n",
              "    .dataframe tbody tr th {\n",
              "        vertical-align: top;\n",
              "    }\n",
              "\n",
              "    .dataframe thead th {\n",
              "        text-align: right;\n",
              "    }\n",
              "\u003c/style\u003e\n",
              "\u003ctable border\u003d\"1\" class\u003d\"dataframe\"\u003e\n",
              "  \u003cthead\u003e\n",
              "    \u003ctr style\u003d\"text-align: right;\"\u003e\n",
              "      \u003cth\u003e\u003c/th\u003e\n",
              "      \u003cth\u003eDateTime\u003c/th\u003e\n",
              "      \u003cth\u003ePrecip Intensity\u003c/th\u003e\n",
              "      \u003cth\u003ePrecip Prob\u003c/th\u003e\n",
              "      \u003cth\u003eTemperature\u003c/th\u003e\n",
              "      \u003cth\u003eWind Speed\u003c/th\u003e\n",
              "      \u003cth\u003eCloud Cover\u003c/th\u003e\n",
              "      \u003cth\u003eUV Index\u003c/th\u003e\n",
              "      \u003cth\u003eVisibility\u003c/th\u003e\n",
              "    \u003c/tr\u003e\n",
              "  \u003c/thead\u003e\n",
              "  \u003ctbody\u003e\n",
              "    \u003ctr\u003e\n",
              "      \u003cth\u003e0\u003c/th\u003e\n",
              "      \u003ctd\u003e2017-01-01 00:00:00\u003c/td\u003e\n",
              "      \u003ctd\u003e0.0\u003c/td\u003e\n",
              "      \u003ctd\u003e0.0\u003c/td\u003e\n",
              "      \u003ctd\u003e39.72\u003c/td\u003e\n",
              "      \u003ctd\u003e7.03\u003c/td\u003e\n",
              "      \u003ctd\u003e0.75\u003c/td\u003e\n",
              "      \u003ctd\u003e0.0\u003c/td\u003e\n",
              "      \u003ctd\u003e6.216\u003c/td\u003e\n",
              "    \u003c/tr\u003e\n",
              "    \u003ctr\u003e\n",
              "      \u003cth\u003e1\u003c/th\u003e\n",
              "      \u003ctd\u003e2017-01-01 01:00:00\u003c/td\u003e\n",
              "      \u003ctd\u003e0.0\u003c/td\u003e\n",
              "      \u003ctd\u003e0.0\u003c/td\u003e\n",
              "      \u003ctd\u003e39.79\u003c/td\u003e\n",
              "      \u003ctd\u003e3.84\u003c/td\u003e\n",
              "      \u003ctd\u003e0.75\u003c/td\u003e\n",
              "      \u003ctd\u003e0.0\u003c/td\u003e\n",
              "      \u003ctd\u003e5.049\u003c/td\u003e\n",
              "    \u003c/tr\u003e\n",
              "    \u003ctr\u003e\n",
              "      \u003cth\u003e2\u003c/th\u003e\n",
              "      \u003ctd\u003e2017-01-01 02:00:00\u003c/td\u003e\n",
              "      \u003ctd\u003e0.0\u003c/td\u003e\n",
              "      \u003ctd\u003e0.0\u003c/td\u003e\n",
              "      \u003ctd\u003e38.21\u003c/td\u003e\n",
              "      \u003ctd\u003e5.91\u003c/td\u003e\n",
              "      \u003ctd\u003e0.75\u003c/td\u003e\n",
              "      \u003ctd\u003e0.0\u003c/td\u003e\n",
              "      \u003ctd\u003e6.216\u003c/td\u003e\n",
              "    \u003c/tr\u003e\n",
              "    \u003ctr\u003e\n",
              "      \u003cth\u003e3\u003c/th\u003e\n",
              "      \u003ctd\u003e2017-01-01 03:00:00\u003c/td\u003e\n",
              "      \u003ctd\u003e0.0\u003c/td\u003e\n",
              "      \u003ctd\u003e0.0\u003c/td\u003e\n",
              "      \u003ctd\u003e37.28\u003c/td\u003e\n",
              "      \u003ctd\u003e7.53\u003c/td\u003e\n",
              "      \u003ctd\u003e0.75\u003c/td\u003e\n",
              "      \u003ctd\u003e0.0\u003c/td\u003e\n",
              "      \u003ctd\u003e6.216\u003c/td\u003e\n",
              "    \u003c/tr\u003e\n",
              "    \u003ctr\u003e\n",
              "      \u003cth\u003e4\u003c/th\u003e\n",
              "      \u003ctd\u003e2017-01-01 04:00:00\u003c/td\u003e\n",
              "      \u003ctd\u003e0.0\u003c/td\u003e\n",
              "      \u003ctd\u003e0.0\u003c/td\u003e\n",
              "      \u003ctd\u003e35.74\u003c/td\u003e\n",
              "      \u003ctd\u003e6.47\u003c/td\u003e\n",
              "      \u003ctd\u003e0.75\u003c/td\u003e\n",
              "      \u003ctd\u003e0.0\u003c/td\u003e\n",
              "      \u003ctd\u003e6.216\u003c/td\u003e\n",
              "    \u003c/tr\u003e\n",
              "  \u003c/tbody\u003e\n",
              "\u003c/table\u003e\n",
              "\u003c/div\u003e"
            ],
            "text/plain": [
              "              DateTime  Precip Intensity  Precip Prob  Temperature  \\\n",
              "0  2017-01-01 00:00:00               0.0          0.0        39.72   \n",
              "1  2017-01-01 01:00:00               0.0          0.0        39.79   \n",
              "2  2017-01-01 02:00:00               0.0          0.0        38.21   \n",
              "3  2017-01-01 03:00:00               0.0          0.0        37.28   \n",
              "4  2017-01-01 04:00:00               0.0          0.0        35.74   \n",
              "\n",
              "   Wind Speed  Cloud Cover  UV Index  Visibility  \n",
              "0        7.03         0.75       0.0       6.216  \n",
              "1        3.84         0.75       0.0       5.049  \n",
              "2        5.91         0.75       0.0       6.216  \n",
              "3        7.53         0.75       0.0       6.216  \n",
              "4        6.47         0.75       0.0       6.216  "
            ]
          },
          "execution_count": 7,
          "metadata": {},
          "output_type": "execute_result"
        }
      ],
      "source": [
        "df_wd.head(5)"
      ]
    },
    {
      "cell_type": "code",
      "execution_count": 8,
      "metadata": {
        "pycharm": {}
      },
      "outputs": [
        {
          "data": {
            "text/html": [
              "\u003cdiv\u003e\n",
              "\u003cstyle scoped\u003e\n",
              "    .dataframe tbody tr th:only-of-type {\n",
              "        vertical-align: middle;\n",
              "    }\n",
              "\n",
              "    .dataframe tbody tr th {\n",
              "        vertical-align: top;\n",
              "    }\n",
              "\n",
              "    .dataframe thead th {\n",
              "        text-align: right;\n",
              "    }\n",
              "\u003c/style\u003e\n",
              "\u003ctable border\u003d\"1\" class\u003d\"dataframe\"\u003e\n",
              "  \u003cthead\u003e\n",
              "    \u003ctr style\u003d\"text-align: right;\"\u003e\n",
              "      \u003cth\u003e\u003c/th\u003e\n",
              "      \u003cth\u003ecount\u003c/th\u003e\n",
              "      \u003cth\u003emean\u003c/th\u003e\n",
              "      \u003cth\u003estd\u003c/th\u003e\n",
              "      \u003cth\u003emin\u003c/th\u003e\n",
              "      \u003cth\u003e25%\u003c/th\u003e\n",
              "      \u003cth\u003e50%\u003c/th\u003e\n",
              "      \u003cth\u003e75%\u003c/th\u003e\n",
              "      \u003cth\u003emax\u003c/th\u003e\n",
              "    \u003c/tr\u003e\n",
              "  \u003c/thead\u003e\n",
              "  \u003ctbody\u003e\n",
              "    \u003ctr\u003e\n",
              "      \u003cth\u003ePrecip Intensity\u003c/th\u003e\n",
              "      \u003ctd\u003e21686.0\u003c/td\u003e\n",
              "      \u003ctd\u003e0.000092\u003c/td\u003e\n",
              "      \u003ctd\u003e0.009603\u003c/td\u003e\n",
              "      \u003ctd\u003e0.00\u003c/td\u003e\n",
              "      \u003ctd\u003e0.000\u003c/td\u003e\n",
              "      \u003ctd\u003e0.000\u003c/td\u003e\n",
              "      \u003ctd\u003e0.000\u003c/td\u003e\n",
              "      \u003ctd\u003e1.00\u003c/td\u003e\n",
              "    \u003c/tr\u003e\n",
              "    \u003ctr\u003e\n",
              "      \u003cth\u003ePrecip Prob\u003c/th\u003e\n",
              "      \u003ctd\u003e21686.0\u003c/td\u003e\n",
              "      \u003ctd\u003e0.028037\u003c/td\u003e\n",
              "      \u003ctd\u003e0.165081\u003c/td\u003e\n",
              "      \u003ctd\u003e0.00\u003c/td\u003e\n",
              "      \u003ctd\u003e0.000\u003c/td\u003e\n",
              "      \u003ctd\u003e0.000\u003c/td\u003e\n",
              "      \u003ctd\u003e0.000\u003c/td\u003e\n",
              "      \u003ctd\u003e1.00\u003c/td\u003e\n",
              "    \u003c/tr\u003e\n",
              "    \u003ctr\u003e\n",
              "      \u003cth\u003eTemperature\u003c/th\u003e\n",
              "      \u003ctd\u003e21686.0\u003c/td\u003e\n",
              "      \u003ctd\u003e48.797408\u003c/td\u003e\n",
              "      \u003ctd\u003e11.248467\u003c/td\u003e\n",
              "      \u003ctd\u003e11.35\u003c/td\u003e\n",
              "      \u003ctd\u003e40.200\u003c/td\u003e\n",
              "      \u003ctd\u003e50.860\u003c/td\u003e\n",
              "      \u003ctd\u003e57.120\u003c/td\u003e\n",
              "      \u003ctd\u003e82.27\u003c/td\u003e\n",
              "    \u003c/tr\u003e\n",
              "    \u003ctr\u003e\n",
              "      \u003cth\u003eWind Speed\u003c/th\u003e\n",
              "      \u003ctd\u003e21686.0\u003c/td\u003e\n",
              "      \u003ctd\u003e9.704390\u003c/td\u003e\n",
              "      \u003ctd\u003e5.335895\u003c/td\u003e\n",
              "      \u003ctd\u003e0.00\u003c/td\u003e\n",
              "      \u003ctd\u003e5.820\u003c/td\u003e\n",
              "      \u003ctd\u003e8.910\u003c/td\u003e\n",
              "      \u003ctd\u003e12.750\u003c/td\u003e\n",
              "      \u003ctd\u003e40.27\u003c/td\u003e\n",
              "    \u003c/tr\u003e\n",
              "    \u003ctr\u003e\n",
              "      \u003cth\u003eCloud Cover\u003c/th\u003e\n",
              "      \u003ctd\u003e21686.0\u003c/td\u003e\n",
              "      \u003ctd\u003e0.642982\u003c/td\u003e\n",
              "      \u003ctd\u003e0.206508\u003c/td\u003e\n",
              "      \u003ctd\u003e0.00\u003c/td\u003e\n",
              "      \u003ctd\u003e0.590\u003c/td\u003e\n",
              "      \u003ctd\u003e0.750\u003c/td\u003e\n",
              "      \u003ctd\u003e0.750\u003c/td\u003e\n",
              "      \u003ctd\u003e1.00\u003c/td\u003e\n",
              "    \u003c/tr\u003e\n",
              "    \u003ctr\u003e\n",
              "      \u003cth\u003eUV Index\u003c/th\u003e\n",
              "      \u003ctd\u003e21686.0\u003c/td\u003e\n",
              "      \u003ctd\u003e0.769068\u003c/td\u003e\n",
              "      \u003ctd\u003e1.400542\u003c/td\u003e\n",
              "      \u003ctd\u003e0.00\u003c/td\u003e\n",
              "      \u003ctd\u003e0.000\u003c/td\u003e\n",
              "      \u003ctd\u003e0.000\u003c/td\u003e\n",
              "      \u003ctd\u003e1.000\u003c/td\u003e\n",
              "      \u003ctd\u003e7.00\u003c/td\u003e\n",
              "    \u003c/tr\u003e\n",
              "    \u003ctr\u003e\n",
              "      \u003cth\u003eVisibility\u003c/th\u003e\n",
              "      \u003ctd\u003e21686.0\u003c/td\u003e\n",
              "      \u003ctd\u003e6.014229\u003c/td\u003e\n",
              "      \u003ctd\u003e0.892211\u003c/td\u003e\n",
              "      \u003ctd\u003e0.00\u003c/td\u003e\n",
              "      \u003ctd\u003e6.216\u003c/td\u003e\n",
              "      \u003ctd\u003e6.216\u003c/td\u003e\n",
              "      \u003ctd\u003e6.216\u003c/td\u003e\n",
              "      \u003ctd\u003e10.00\u003c/td\u003e\n",
              "    \u003c/tr\u003e\n",
              "  \u003c/tbody\u003e\n",
              "\u003c/table\u003e\n",
              "\u003c/div\u003e"
            ],
            "text/plain": [
              "                    count       mean        std    min     25%     50%  \\\n",
              "Precip Intensity  21686.0   0.000092   0.009603   0.00   0.000   0.000   \n",
              "Precip Prob       21686.0   0.028037   0.165081   0.00   0.000   0.000   \n",
              "Temperature       21686.0  48.797408  11.248467  11.35  40.200  50.860   \n",
              "Wind Speed        21686.0   9.704390   5.335895   0.00   5.820   8.910   \n",
              "Cloud Cover       21686.0   0.642982   0.206508   0.00   0.590   0.750   \n",
              "UV Index          21686.0   0.769068   1.400542   0.00   0.000   0.000   \n",
              "Visibility        21686.0   6.014229   0.892211   0.00   6.216   6.216   \n",
              "\n",
              "                     75%    max  \n",
              "Precip Intensity   0.000   1.00  \n",
              "Precip Prob        0.000   1.00  \n",
              "Temperature       57.120  82.27  \n",
              "Wind Speed        12.750  40.27  \n",
              "Cloud Cover        0.750   1.00  \n",
              "UV Index           1.000   7.00  \n",
              "Visibility         6.216  10.00  "
            ]
          },
          "execution_count": 8,
          "metadata": {},
          "output_type": "execute_result"
        }
      ],
      "source": [
        "df_wd.describe().T"
      ]
    },
    {
      "cell_type": "code",
      "execution_count": 9,
      "metadata": {
        "pycharm": {}
      },
      "outputs": [],
      "source": [
        "# Precip Intensity has a mean ~ 0 so drop as it will skew predicition\n",
        "df_wd_feat \u003d df_wd.drop(columns\u003d[\u0027Precip Intensity\u0027])"
      ]
    },
    {
      "cell_type": "code",
      "execution_count": 10,
      "metadata": {
        "pycharm": {}
      },
      "outputs": [],
      "source": [
        "df_wd_feat[\u0027DateTime\u0027]\u003d pd.to_datetime(df_wd_feat[\u0027DateTime\u0027], infer_datetime_format\u003dTrue) \n",
        "df_46A[\u0027DateTime\u0027]\u003d pd.to_datetime(df_46A[\u0027DateTime\u0027], infer_datetime_format\u003dTrue) "
      ]
    },
    {
      "cell_type": "code",
      "execution_count": 11,
      "metadata": {
        "pycharm": {}
      },
      "outputs": [
        {
          "data": {
            "text/html": [
              "\u003cdiv\u003e\n",
              "\u003cstyle scoped\u003e\n",
              "    .dataframe tbody tr th:only-of-type {\n",
              "        vertical-align: middle;\n",
              "    }\n",
              "\n",
              "    .dataframe tbody tr th {\n",
              "        vertical-align: top;\n",
              "    }\n",
              "\n",
              "    .dataframe thead th {\n",
              "        text-align: right;\n",
              "    }\n",
              "\u003c/style\u003e\n",
              "\u003ctable border\u003d\"1\" class\u003d\"dataframe\"\u003e\n",
              "  \u003cthead\u003e\n",
              "    \u003ctr style\u003d\"text-align: right;\"\u003e\n",
              "      \u003cth\u003e\u003c/th\u003e\n",
              "      \u003cth\u003eDateTime\u003c/th\u003e\n",
              "      \u003cth\u003ePrecip Intensity\u003c/th\u003e\n",
              "      \u003cth\u003ePrecip Prob\u003c/th\u003e\n",
              "      \u003cth\u003eTemperature\u003c/th\u003e\n",
              "      \u003cth\u003eWind Speed\u003c/th\u003e\n",
              "      \u003cth\u003eCloud Cover\u003c/th\u003e\n",
              "      \u003cth\u003eUV Index\u003c/th\u003e\n",
              "      \u003cth\u003eVisibility\u003c/th\u003e\n",
              "    \u003c/tr\u003e\n",
              "  \u003c/thead\u003e\n",
              "  \u003ctbody\u003e\n",
              "    \u003ctr\u003e\n",
              "      \u003cth\u003e0\u003c/th\u003e\n",
              "      \u003ctd\u003e2017-01-01 00:00:00\u003c/td\u003e\n",
              "      \u003ctd\u003e0.0\u003c/td\u003e\n",
              "      \u003ctd\u003e0.0\u003c/td\u003e\n",
              "      \u003ctd\u003e39.72\u003c/td\u003e\n",
              "      \u003ctd\u003e7.03\u003c/td\u003e\n",
              "      \u003ctd\u003e0.75\u003c/td\u003e\n",
              "      \u003ctd\u003e0.0\u003c/td\u003e\n",
              "      \u003ctd\u003e6.216\u003c/td\u003e\n",
              "    \u003c/tr\u003e\n",
              "    \u003ctr\u003e\n",
              "      \u003cth\u003e1\u003c/th\u003e\n",
              "      \u003ctd\u003e2017-01-01 01:00:00\u003c/td\u003e\n",
              "      \u003ctd\u003e0.0\u003c/td\u003e\n",
              "      \u003ctd\u003e0.0\u003c/td\u003e\n",
              "      \u003ctd\u003e39.79\u003c/td\u003e\n",
              "      \u003ctd\u003e3.84\u003c/td\u003e\n",
              "      \u003ctd\u003e0.75\u003c/td\u003e\n",
              "      \u003ctd\u003e0.0\u003c/td\u003e\n",
              "      \u003ctd\u003e5.049\u003c/td\u003e\n",
              "    \u003c/tr\u003e\n",
              "    \u003ctr\u003e\n",
              "      \u003cth\u003e2\u003c/th\u003e\n",
              "      \u003ctd\u003e2017-01-01 02:00:00\u003c/td\u003e\n",
              "      \u003ctd\u003e0.0\u003c/td\u003e\n",
              "      \u003ctd\u003e0.0\u003c/td\u003e\n",
              "      \u003ctd\u003e38.21\u003c/td\u003e\n",
              "      \u003ctd\u003e5.91\u003c/td\u003e\n",
              "      \u003ctd\u003e0.75\u003c/td\u003e\n",
              "      \u003ctd\u003e0.0\u003c/td\u003e\n",
              "      \u003ctd\u003e6.216\u003c/td\u003e\n",
              "    \u003c/tr\u003e\n",
              "    \u003ctr\u003e\n",
              "      \u003cth\u003e3\u003c/th\u003e\n",
              "      \u003ctd\u003e2017-01-01 03:00:00\u003c/td\u003e\n",
              "      \u003ctd\u003e0.0\u003c/td\u003e\n",
              "      \u003ctd\u003e0.0\u003c/td\u003e\n",
              "      \u003ctd\u003e37.28\u003c/td\u003e\n",
              "      \u003ctd\u003e7.53\u003c/td\u003e\n",
              "      \u003ctd\u003e0.75\u003c/td\u003e\n",
              "      \u003ctd\u003e0.0\u003c/td\u003e\n",
              "      \u003ctd\u003e6.216\u003c/td\u003e\n",
              "    \u003c/tr\u003e\n",
              "    \u003ctr\u003e\n",
              "      \u003cth\u003e4\u003c/th\u003e\n",
              "      \u003ctd\u003e2017-01-01 04:00:00\u003c/td\u003e\n",
              "      \u003ctd\u003e0.0\u003c/td\u003e\n",
              "      \u003ctd\u003e0.0\u003c/td\u003e\n",
              "      \u003ctd\u003e35.74\u003c/td\u003e\n",
              "      \u003ctd\u003e6.47\u003c/td\u003e\n",
              "      \u003ctd\u003e0.75\u003c/td\u003e\n",
              "      \u003ctd\u003e0.0\u003c/td\u003e\n",
              "      \u003ctd\u003e6.216\u003c/td\u003e\n",
              "    \u003c/tr\u003e\n",
              "  \u003c/tbody\u003e\n",
              "\u003c/table\u003e\n",
              "\u003c/div\u003e"
            ],
            "text/plain": [
              "              DateTime  Precip Intensity  Precip Prob  Temperature  \\\n",
              "0  2017-01-01 00:00:00               0.0          0.0        39.72   \n",
              "1  2017-01-01 01:00:00               0.0          0.0        39.79   \n",
              "2  2017-01-01 02:00:00               0.0          0.0        38.21   \n",
              "3  2017-01-01 03:00:00               0.0          0.0        37.28   \n",
              "4  2017-01-01 04:00:00               0.0          0.0        35.74   \n",
              "\n",
              "   Wind Speed  Cloud Cover  UV Index  Visibility  \n",
              "0        7.03         0.75       0.0       6.216  \n",
              "1        3.84         0.75       0.0       5.049  \n",
              "2        5.91         0.75       0.0       6.216  \n",
              "3        7.53         0.75       0.0       6.216  \n",
              "4        6.47         0.75       0.0       6.216  "
            ]
          },
          "execution_count": 11,
          "metadata": {},
          "output_type": "execute_result"
        }
      ],
      "source": [
        "df_wd.head(5)"
      ]
    },
    {
      "cell_type": "code",
      "execution_count": 12,
      "metadata": {
        "pycharm": {}
      },
      "outputs": [],
      "source": [
        "mask \u003d (df_wd_feat[\u0027DateTime\u0027] \u003e \u00272018-12-01\u0027) \u0026 (df_wd_feat[\u0027DateTime\u0027] \u003c\u003d \u00272018-12-31\u0027)"
      ]
    },
    {
      "cell_type": "code",
      "execution_count": 13,
      "metadata": {
        "pycharm": {}
      },
      "outputs": [],
      "source": [
        "df_wd_dec \u003d df_wd_feat.loc[mask]"
      ]
    },
    {
      "cell_type": "code",
      "execution_count": 14,
      "metadata": {
        "pycharm": {}
      },
      "outputs": [
        {
          "data": {
            "text/html": [
              "\u003cdiv\u003e\n",
              "\u003cstyle scoped\u003e\n",
              "    .dataframe tbody tr th:only-of-type {\n",
              "        vertical-align: middle;\n",
              "    }\n",
              "\n",
              "    .dataframe tbody tr th {\n",
              "        vertical-align: top;\n",
              "    }\n",
              "\n",
              "    .dataframe thead th {\n",
              "        text-align: right;\n",
              "    }\n",
              "\u003c/style\u003e\n",
              "\u003ctable border\u003d\"1\" class\u003d\"dataframe\"\u003e\n",
              "  \u003cthead\u003e\n",
              "    \u003ctr style\u003d\"text-align: right;\"\u003e\n",
              "      \u003cth\u003e\u003c/th\u003e\n",
              "      \u003cth\u003eDateTime\u003c/th\u003e\n",
              "      \u003cth\u003ePrecip Prob\u003c/th\u003e\n",
              "      \u003cth\u003eTemperature\u003c/th\u003e\n",
              "      \u003cth\u003eWind Speed\u003c/th\u003e\n",
              "      \u003cth\u003eCloud Cover\u003c/th\u003e\n",
              "      \u003cth\u003eUV Index\u003c/th\u003e\n",
              "      \u003cth\u003eVisibility\u003c/th\u003e\n",
              "    \u003c/tr\u003e\n",
              "  \u003c/thead\u003e\n",
              "  \u003ctbody\u003e\n",
              "    \u003ctr\u003e\n",
              "      \u003cth\u003e16768\u003c/th\u003e\n",
              "      \u003ctd\u003e2018-12-01 01:00:00\u003c/td\u003e\n",
              "      \u003ctd\u003e0.0\u003c/td\u003e\n",
              "      \u003ctd\u003e40.94\u003c/td\u003e\n",
              "      \u003ctd\u003e8.83\u003c/td\u003e\n",
              "      \u003ctd\u003e0.75\u003c/td\u003e\n",
              "      \u003ctd\u003e0.0\u003c/td\u003e\n",
              "      \u003ctd\u003e6.253\u003c/td\u003e\n",
              "    \u003c/tr\u003e\n",
              "    \u003ctr\u003e\n",
              "      \u003cth\u003e16769\u003c/th\u003e\n",
              "      \u003ctd\u003e2018-12-01 02:00:00\u003c/td\u003e\n",
              "      \u003ctd\u003e0.0\u003c/td\u003e\n",
              "      \u003ctd\u003e41.13\u003c/td\u003e\n",
              "      \u003ctd\u003e8.16\u003c/td\u003e\n",
              "      \u003ctd\u003e0.75\u003c/td\u003e\n",
              "      \u003ctd\u003e0.0\u003c/td\u003e\n",
              "      \u003ctd\u003e6.264\u003c/td\u003e\n",
              "    \u003c/tr\u003e\n",
              "    \u003ctr\u003e\n",
              "      \u003cth\u003e16770\u003c/th\u003e\n",
              "      \u003ctd\u003e2018-12-01 03:00:00\u003c/td\u003e\n",
              "      \u003ctd\u003e1.0\u003c/td\u003e\n",
              "      \u003ctd\u003e41.73\u003c/td\u003e\n",
              "      \u003ctd\u003e7.25\u003c/td\u003e\n",
              "      \u003ctd\u003e0.75\u003c/td\u003e\n",
              "      \u003ctd\u003e0.0\u003c/td\u003e\n",
              "      \u003ctd\u003e6.794\u003c/td\u003e\n",
              "    \u003c/tr\u003e\n",
              "    \u003ctr\u003e\n",
              "      \u003cth\u003e16771\u003c/th\u003e\n",
              "      \u003ctd\u003e2018-12-01 04:00:00\u003c/td\u003e\n",
              "      \u003ctd\u003e1.0\u003c/td\u003e\n",
              "      \u003ctd\u003e43.31\u003c/td\u003e\n",
              "      \u003ctd\u003e6.36\u003c/td\u003e\n",
              "      \u003ctd\u003e0.75\u003c/td\u003e\n",
              "      \u003ctd\u003e0.0\u003c/td\u003e\n",
              "      \u003ctd\u003e5.923\u003c/td\u003e\n",
              "    \u003c/tr\u003e\n",
              "    \u003ctr\u003e\n",
              "      \u003cth\u003e16772\u003c/th\u003e\n",
              "      \u003ctd\u003e2018-12-01 05:00:00\u003c/td\u003e\n",
              "      \u003ctd\u003e1.0\u003c/td\u003e\n",
              "      \u003ctd\u003e40.86\u003c/td\u003e\n",
              "      \u003ctd\u003e9.46\u003c/td\u003e\n",
              "      \u003ctd\u003e0.75\u003c/td\u003e\n",
              "      \u003ctd\u003e0.0\u003c/td\u003e\n",
              "      \u003ctd\u003e5.889\u003c/td\u003e\n",
              "    \u003c/tr\u003e\n",
              "  \u003c/tbody\u003e\n",
              "\u003c/table\u003e\n",
              "\u003c/div\u003e"
            ],
            "text/plain": [
              "                 DateTime  Precip Prob  Temperature  Wind Speed  Cloud Cover  \\\n",
              "16768 2018-12-01 01:00:00          0.0        40.94        8.83         0.75   \n",
              "16769 2018-12-01 02:00:00          0.0        41.13        8.16         0.75   \n",
              "16770 2018-12-01 03:00:00          1.0        41.73        7.25         0.75   \n",
              "16771 2018-12-01 04:00:00          1.0        43.31        6.36         0.75   \n",
              "16772 2018-12-01 05:00:00          1.0        40.86        9.46         0.75   \n",
              "\n",
              "       UV Index  Visibility  \n",
              "16768       0.0       6.253  \n",
              "16769       0.0       6.264  \n",
              "16770       0.0       6.794  \n",
              "16771       0.0       5.923  \n",
              "16772       0.0       5.889  "
            ]
          },
          "execution_count": 14,
          "metadata": {},
          "output_type": "execute_result"
        }
      ],
      "source": [
        "df_wd_dec.head(5)"
      ]
    },
    {
      "cell_type": "code",
      "execution_count": 15,
      "metadata": {
        "pycharm": {}
      },
      "outputs": [
        {
          "data": {
            "text/html": [
              "\u003cdiv\u003e\n",
              "\u003cstyle scoped\u003e\n",
              "    .dataframe tbody tr th:only-of-type {\n",
              "        vertical-align: middle;\n",
              "    }\n",
              "\n",
              "    .dataframe tbody tr th {\n",
              "        vertical-align: top;\n",
              "    }\n",
              "\n",
              "    .dataframe thead th {\n",
              "        text-align: right;\n",
              "    }\n",
              "\u003c/style\u003e\n",
              "\u003ctable border\u003d\"1\" class\u003d\"dataframe\"\u003e\n",
              "  \u003cthead\u003e\n",
              "    \u003ctr style\u003d\"text-align: right;\"\u003e\n",
              "      \u003cth\u003e\u003c/th\u003e\n",
              "      \u003cth\u003eDateTime\u003c/th\u003e\n",
              "      \u003cth\u003ePrecip Prob\u003c/th\u003e\n",
              "      \u003cth\u003eTemperature\u003c/th\u003e\n",
              "      \u003cth\u003eWind Speed\u003c/th\u003e\n",
              "      \u003cth\u003eCloud Cover\u003c/th\u003e\n",
              "      \u003cth\u003eUV Index\u003c/th\u003e\n",
              "      \u003cth\u003eVisibility\u003c/th\u003e\n",
              "    \u003c/tr\u003e\n",
              "  \u003c/thead\u003e\n",
              "  \u003ctbody\u003e\n",
              "    \u003ctr\u003e\n",
              "      \u003cth\u003e17483\u003c/th\u003e\n",
              "      \u003ctd\u003e2018-12-30 20:00:00\u003c/td\u003e\n",
              "      \u003ctd\u003e0.0\u003c/td\u003e\n",
              "      \u003ctd\u003e51.31\u003c/td\u003e\n",
              "      \u003ctd\u003e6.79\u003c/td\u003e\n",
              "      \u003ctd\u003e0.75\u003c/td\u003e\n",
              "      \u003ctd\u003e0.0\u003c/td\u003e\n",
              "      \u003ctd\u003e6.349\u003c/td\u003e\n",
              "    \u003c/tr\u003e\n",
              "    \u003ctr\u003e\n",
              "      \u003cth\u003e17484\u003c/th\u003e\n",
              "      \u003ctd\u003e2018-12-30 21:00:00\u003c/td\u003e\n",
              "      \u003ctd\u003e0.0\u003c/td\u003e\n",
              "      \u003ctd\u003e51.19\u003c/td\u003e\n",
              "      \u003ctd\u003e7.41\u003c/td\u003e\n",
              "      \u003ctd\u003e0.75\u003c/td\u003e\n",
              "      \u003ctd\u003e0.0\u003c/td\u003e\n",
              "      \u003ctd\u003e6.085\u003c/td\u003e\n",
              "    \u003c/tr\u003e\n",
              "    \u003ctr\u003e\n",
              "      \u003cth\u003e17485\u003c/th\u003e\n",
              "      \u003ctd\u003e2018-12-30 22:00:00\u003c/td\u003e\n",
              "      \u003ctd\u003e0.0\u003c/td\u003e\n",
              "      \u003ctd\u003e51.13\u003c/td\u003e\n",
              "      \u003ctd\u003e10.30\u003c/td\u003e\n",
              "      \u003ctd\u003e0.75\u003c/td\u003e\n",
              "      \u003ctd\u003e0.0\u003c/td\u003e\n",
              "      \u003ctd\u003e6.166\u003c/td\u003e\n",
              "    \u003c/tr\u003e\n",
              "    \u003ctr\u003e\n",
              "      \u003cth\u003e17486\u003c/th\u003e\n",
              "      \u003ctd\u003e2018-12-30 23:00:00\u003c/td\u003e\n",
              "      \u003ctd\u003e0.0\u003c/td\u003e\n",
              "      \u003ctd\u003e45.97\u003c/td\u003e\n",
              "      \u003ctd\u003e7.96\u003c/td\u003e\n",
              "      \u003ctd\u003e0.75\u003c/td\u003e\n",
              "      \u003ctd\u003e0.0\u003c/td\u003e\n",
              "      \u003ctd\u003e6.308\u003c/td\u003e\n",
              "    \u003c/tr\u003e\n",
              "    \u003ctr\u003e\n",
              "      \u003cth\u003e17487\u003c/th\u003e\n",
              "      \u003ctd\u003e2018-12-31 00:00:00\u003c/td\u003e\n",
              "      \u003ctd\u003e0.0\u003c/td\u003e\n",
              "      \u003ctd\u003e46.00\u003c/td\u003e\n",
              "      \u003ctd\u003e7.94\u003c/td\u003e\n",
              "      \u003ctd\u003e0.75\u003c/td\u003e\n",
              "      \u003ctd\u003e0.0\u003c/td\u003e\n",
              "      \u003ctd\u003e6.311\u003c/td\u003e\n",
              "    \u003c/tr\u003e\n",
              "  \u003c/tbody\u003e\n",
              "\u003c/table\u003e\n",
              "\u003c/div\u003e"
            ],
            "text/plain": [
              "                 DateTime  Precip Prob  Temperature  Wind Speed  Cloud Cover  \\\n",
              "17483 2018-12-30 20:00:00          0.0        51.31        6.79         0.75   \n",
              "17484 2018-12-30 21:00:00          0.0        51.19        7.41         0.75   \n",
              "17485 2018-12-30 22:00:00          0.0        51.13       10.30         0.75   \n",
              "17486 2018-12-30 23:00:00          0.0        45.97        7.96         0.75   \n",
              "17487 2018-12-31 00:00:00          0.0        46.00        7.94         0.75   \n",
              "\n",
              "       UV Index  Visibility  \n",
              "17483       0.0       6.349  \n",
              "17484       0.0       6.085  \n",
              "17485       0.0       6.166  \n",
              "17486       0.0       6.308  \n",
              "17487       0.0       6.311  "
            ]
          },
          "execution_count": 15,
          "metadata": {},
          "output_type": "execute_result"
        }
      ],
      "source": [
        "df_wd_dec.tail(5)"
      ]
    },
    {
      "cell_type": "markdown",
      "metadata": {
        "pycharm": {}
      },
      "source": [
        "## Add two frame together"
      ]
    },
    {
      "cell_type": "code",
      "execution_count": 16,
      "metadata": {
        "pycharm": {}
      },
      "outputs": [
        {
          "data": {
            "text/plain": [
              "DateTime          2018-12-24 00:00:00\n",
              "Sequence                           14\n",
              "StopID                           6059\n",
              "Planned_Arr                     54291\n",
              "Actual_Arr                      54158\n",
              "Actual_Depart                   54244\n",
              "Extracted_Date              24-DEC-18\n",
              "Day                            Monday\n",
              "Day_Friday                          0\n",
              "Day_Monday                          1\n",
              "Day_Saturday                        0\n",
              "Day_Sunday                          0\n",
              "Day_Thursday                        0\n",
              "Day_Tuesday                         0\n",
              "Day_Wednesday                       0\n",
              "Name: 0, dtype: object"
            ]
          },
          "execution_count": 16,
          "metadata": {},
          "output_type": "execute_result"
        }
      ],
      "source": [
        "df_46A.iloc[0]"
      ]
    },
    {
      "cell_type": "code",
      "execution_count": 17,
      "metadata": {
        "pycharm": {}
      },
      "outputs": [
        {
          "data": {
            "text/plain": [
              "DateTime       2018-12-24 00:00:00\n",
              "Precip Prob                      0\n",
              "Temperature                  39.46\n",
              "Wind Speed                    5.61\n",
              "Cloud Cover                    0.6\n",
              "UV Index                         0\n",
              "Visibility                    6.22\n",
              "Name: 17319, dtype: object"
            ]
          },
          "execution_count": 17,
          "metadata": {},
          "output_type": "execute_result"
        }
      ],
      "source": [
        "df_wd_dec.iloc[551]"
      ]
    },
    {
      "cell_type": "code",
      "execution_count": 18,
      "metadata": {
        "pycharm": {}
      },
      "outputs": [
        {
          "data": {
            "text/plain": [
              "True"
            ]
          },
          "execution_count": 18,
          "metadata": {},
          "output_type": "execute_result"
        }
      ],
      "source": [
        "df_46A.iloc[0].DateTime \u003d\u003d df_wd_dec.iloc[551].DateTime"
      ]
    },
    {
      "cell_type": "code",
      "execution_count": 19,
      "metadata": {
        "pycharm": {}
      },
      "outputs": [],
      "source": [
        "df_46A_merge \u003d pd.merge(df_46A, df_wd_dec, how\u003d\u0027outer\u0027, on\u003d\u0027DateTime\u0027)"
      ]
    },
    {
      "cell_type": "code",
      "execution_count": 20,
      "metadata": {
        "pycharm": {}
      },
      "outputs": [
        {
          "data": {
            "text/html": [
              "\u003cdiv\u003e\n",
              "\u003cstyle scoped\u003e\n",
              "    .dataframe tbody tr th:only-of-type {\n",
              "        vertical-align: middle;\n",
              "    }\n",
              "\n",
              "    .dataframe tbody tr th {\n",
              "        vertical-align: top;\n",
              "    }\n",
              "\n",
              "    .dataframe thead th {\n",
              "        text-align: right;\n",
              "    }\n",
              "\u003c/style\u003e\n",
              "\u003ctable border\u003d\"1\" class\u003d\"dataframe\"\u003e\n",
              "  \u003cthead\u003e\n",
              "    \u003ctr style\u003d\"text-align: right;\"\u003e\n",
              "      \u003cth\u003e\u003c/th\u003e\n",
              "      \u003cth\u003eDateTime\u003c/th\u003e\n",
              "      \u003cth\u003eSequence\u003c/th\u003e\n",
              "      \u003cth\u003eStopID\u003c/th\u003e\n",
              "      \u003cth\u003ePlanned_Arr\u003c/th\u003e\n",
              "      \u003cth\u003eActual_Arr\u003c/th\u003e\n",
              "      \u003cth\u003eActual_Depart\u003c/th\u003e\n",
              "      \u003cth\u003eExtracted_Date\u003c/th\u003e\n",
              "      \u003cth\u003eDay\u003c/th\u003e\n",
              "      \u003cth\u003eDay_Friday\u003c/th\u003e\n",
              "      \u003cth\u003eDay_Monday\u003c/th\u003e\n",
              "      \u003cth\u003e...\u003c/th\u003e\n",
              "      \u003cth\u003eDay_Sunday\u003c/th\u003e\n",
              "      \u003cth\u003eDay_Thursday\u003c/th\u003e\n",
              "      \u003cth\u003eDay_Tuesday\u003c/th\u003e\n",
              "      \u003cth\u003eDay_Wednesday\u003c/th\u003e\n",
              "      \u003cth\u003ePrecip Prob\u003c/th\u003e\n",
              "      \u003cth\u003eTemperature\u003c/th\u003e\n",
              "      \u003cth\u003eWind Speed\u003c/th\u003e\n",
              "      \u003cth\u003eCloud Cover\u003c/th\u003e\n",
              "      \u003cth\u003eUV Index\u003c/th\u003e\n",
              "      \u003cth\u003eVisibility\u003c/th\u003e\n",
              "    \u003c/tr\u003e\n",
              "  \u003c/thead\u003e\n",
              "  \u003ctbody\u003e\n",
              "    \u003ctr\u003e\n",
              "      \u003cth\u003e0\u003c/th\u003e\n",
              "      \u003ctd\u003e2018-12-24\u003c/td\u003e\n",
              "      \u003ctd\u003e14.0\u003c/td\u003e\n",
              "      \u003ctd\u003e6059.0\u003c/td\u003e\n",
              "      \u003ctd\u003e54291.0\u003c/td\u003e\n",
              "      \u003ctd\u003e54158.0\u003c/td\u003e\n",
              "      \u003ctd\u003e54244.0\u003c/td\u003e\n",
              "      \u003ctd\u003e24-DEC-18\u003c/td\u003e\n",
              "      \u003ctd\u003eMonday\u003c/td\u003e\n",
              "      \u003ctd\u003e0.0\u003c/td\u003e\n",
              "      \u003ctd\u003e1.0\u003c/td\u003e\n",
              "      \u003ctd\u003e...\u003c/td\u003e\n",
              "      \u003ctd\u003e0.0\u003c/td\u003e\n",
              "      \u003ctd\u003e0.0\u003c/td\u003e\n",
              "      \u003ctd\u003e0.0\u003c/td\u003e\n",
              "      \u003ctd\u003e0.0\u003c/td\u003e\n",
              "      \u003ctd\u003e0.0\u003c/td\u003e\n",
              "      \u003ctd\u003e39.46\u003c/td\u003e\n",
              "      \u003ctd\u003e5.61\u003c/td\u003e\n",
              "      \u003ctd\u003e0.6\u003c/td\u003e\n",
              "      \u003ctd\u003e0.0\u003c/td\u003e\n",
              "      \u003ctd\u003e6.22\u003c/td\u003e\n",
              "    \u003c/tr\u003e\n",
              "    \u003ctr\u003e\n",
              "      \u003cth\u003e1\u003c/th\u003e\n",
              "      \u003ctd\u003e2018-12-24\u003c/td\u003e\n",
              "      \u003ctd\u003e15.0\u003c/td\u003e\n",
              "      \u003ctd\u003e334.0\u003c/td\u003e\n",
              "      \u003ctd\u003e54462.0\u003c/td\u003e\n",
              "      \u003ctd\u003e54348.0\u003c/td\u003e\n",
              "      \u003ctd\u003e54401.0\u003c/td\u003e\n",
              "      \u003ctd\u003e24-DEC-18\u003c/td\u003e\n",
              "      \u003ctd\u003eMonday\u003c/td\u003e\n",
              "      \u003ctd\u003e0.0\u003c/td\u003e\n",
              "      \u003ctd\u003e1.0\u003c/td\u003e\n",
              "      \u003ctd\u003e...\u003c/td\u003e\n",
              "      \u003ctd\u003e0.0\u003c/td\u003e\n",
              "      \u003ctd\u003e0.0\u003c/td\u003e\n",
              "      \u003ctd\u003e0.0\u003c/td\u003e\n",
              "      \u003ctd\u003e0.0\u003c/td\u003e\n",
              "      \u003ctd\u003e0.0\u003c/td\u003e\n",
              "      \u003ctd\u003e39.46\u003c/td\u003e\n",
              "      \u003ctd\u003e5.61\u003c/td\u003e\n",
              "      \u003ctd\u003e0.6\u003c/td\u003e\n",
              "      \u003ctd\u003e0.0\u003c/td\u003e\n",
              "      \u003ctd\u003e6.22\u003c/td\u003e\n",
              "    \u003c/tr\u003e\n",
              "    \u003ctr\u003e\n",
              "      \u003cth\u003e2\u003c/th\u003e\n",
              "      \u003ctd\u003e2018-12-24\u003c/td\u003e\n",
              "      \u003ctd\u003e16.0\u003c/td\u003e\n",
              "      \u003ctd\u003e406.0\u003c/td\u003e\n",
              "      \u003ctd\u003e54728.0\u003c/td\u003e\n",
              "      \u003ctd\u003e54588.0\u003c/td\u003e\n",
              "      \u003ctd\u003e54646.0\u003c/td\u003e\n",
              "      \u003ctd\u003e24-DEC-18\u003c/td\u003e\n",
              "      \u003ctd\u003eMonday\u003c/td\u003e\n",
              "      \u003ctd\u003e0.0\u003c/td\u003e\n",
              "      \u003ctd\u003e1.0\u003c/td\u003e\n",
              "      \u003ctd\u003e...\u003c/td\u003e\n",
              "      \u003ctd\u003e0.0\u003c/td\u003e\n",
              "      \u003ctd\u003e0.0\u003c/td\u003e\n",
              "      \u003ctd\u003e0.0\u003c/td\u003e\n",
              "      \u003ctd\u003e0.0\u003c/td\u003e\n",
              "      \u003ctd\u003e0.0\u003c/td\u003e\n",
              "      \u003ctd\u003e39.46\u003c/td\u003e\n",
              "      \u003ctd\u003e5.61\u003c/td\u003e\n",
              "      \u003ctd\u003e0.6\u003c/td\u003e\n",
              "      \u003ctd\u003e0.0\u003c/td\u003e\n",
              "      \u003ctd\u003e6.22\u003c/td\u003e\n",
              "    \u003c/tr\u003e\n",
              "    \u003ctr\u003e\n",
              "      \u003cth\u003e3\u003c/th\u003e\n",
              "      \u003ctd\u003e2018-12-24\u003c/td\u003e\n",
              "      \u003ctd\u003e17.0\u003c/td\u003e\n",
              "      \u003ctd\u003e747.0\u003c/td\u003e\n",
              "      \u003ctd\u003e54875.0\u003c/td\u003e\n",
              "      \u003ctd\u003e54773.0\u003c/td\u003e\n",
              "      \u003ctd\u003e54820.0\u003c/td\u003e\n",
              "      \u003ctd\u003e24-DEC-18\u003c/td\u003e\n",
              "      \u003ctd\u003eMonday\u003c/td\u003e\n",
              "      \u003ctd\u003e0.0\u003c/td\u003e\n",
              "      \u003ctd\u003e1.0\u003c/td\u003e\n",
              "      \u003ctd\u003e...\u003c/td\u003e\n",
              "      \u003ctd\u003e0.0\u003c/td\u003e\n",
              "      \u003ctd\u003e0.0\u003c/td\u003e\n",
              "      \u003ctd\u003e0.0\u003c/td\u003e\n",
              "      \u003ctd\u003e0.0\u003c/td\u003e\n",
              "      \u003ctd\u003e0.0\u003c/td\u003e\n",
              "      \u003ctd\u003e39.46\u003c/td\u003e\n",
              "      \u003ctd\u003e5.61\u003c/td\u003e\n",
              "      \u003ctd\u003e0.6\u003c/td\u003e\n",
              "      \u003ctd\u003e0.0\u003c/td\u003e\n",
              "      \u003ctd\u003e6.22\u003c/td\u003e\n",
              "    \u003c/tr\u003e\n",
              "    \u003ctr\u003e\n",
              "      \u003cth\u003e4\u003c/th\u003e\n",
              "      \u003ctd\u003e2018-12-24\u003c/td\u003e\n",
              "      \u003ctd\u003e18.0\u003c/td\u003e\n",
              "      \u003ctd\u003e842.0\u003c/td\u003e\n",
              "      \u003ctd\u003e54961.0\u003c/td\u003e\n",
              "      \u003ctd\u003e54964.0\u003c/td\u003e\n",
              "      \u003ctd\u003e54983.0\u003c/td\u003e\n",
              "      \u003ctd\u003e24-DEC-18\u003c/td\u003e\n",
              "      \u003ctd\u003eMonday\u003c/td\u003e\n",
              "      \u003ctd\u003e0.0\u003c/td\u003e\n",
              "      \u003ctd\u003e1.0\u003c/td\u003e\n",
              "      \u003ctd\u003e...\u003c/td\u003e\n",
              "      \u003ctd\u003e0.0\u003c/td\u003e\n",
              "      \u003ctd\u003e0.0\u003c/td\u003e\n",
              "      \u003ctd\u003e0.0\u003c/td\u003e\n",
              "      \u003ctd\u003e0.0\u003c/td\u003e\n",
              "      \u003ctd\u003e0.0\u003c/td\u003e\n",
              "      \u003ctd\u003e39.46\u003c/td\u003e\n",
              "      \u003ctd\u003e5.61\u003c/td\u003e\n",
              "      \u003ctd\u003e0.6\u003c/td\u003e\n",
              "      \u003ctd\u003e0.0\u003c/td\u003e\n",
              "      \u003ctd\u003e6.22\u003c/td\u003e\n",
              "    \u003c/tr\u003e\n",
              "  \u003c/tbody\u003e\n",
              "\u003c/table\u003e\n",
              "\u003cp\u003e5 rows × 21 columns\u003c/p\u003e\n",
              "\u003c/div\u003e"
            ],
            "text/plain": [
              "    DateTime  Sequence  StopID  Planned_Arr  Actual_Arr  Actual_Depart  \\\n",
              "0 2018-12-24      14.0  6059.0      54291.0     54158.0        54244.0   \n",
              "1 2018-12-24      15.0   334.0      54462.0     54348.0        54401.0   \n",
              "2 2018-12-24      16.0   406.0      54728.0     54588.0        54646.0   \n",
              "3 2018-12-24      17.0   747.0      54875.0     54773.0        54820.0   \n",
              "4 2018-12-24      18.0   842.0      54961.0     54964.0        54983.0   \n",
              "\n",
              "  Extracted_Date     Day  Day_Friday  Day_Monday  ...  Day_Sunday  \\\n",
              "0      24-DEC-18  Monday         0.0         1.0  ...         0.0   \n",
              "1      24-DEC-18  Monday         0.0         1.0  ...         0.0   \n",
              "2      24-DEC-18  Monday         0.0         1.0  ...         0.0   \n",
              "3      24-DEC-18  Monday         0.0         1.0  ...         0.0   \n",
              "4      24-DEC-18  Monday         0.0         1.0  ...         0.0   \n",
              "\n",
              "   Day_Thursday  Day_Tuesday  Day_Wednesday  Precip Prob  Temperature  \\\n",
              "0           0.0          0.0            0.0          0.0        39.46   \n",
              "1           0.0          0.0            0.0          0.0        39.46   \n",
              "2           0.0          0.0            0.0          0.0        39.46   \n",
              "3           0.0          0.0            0.0          0.0        39.46   \n",
              "4           0.0          0.0            0.0          0.0        39.46   \n",
              "\n",
              "   Wind Speed  Cloud Cover  UV Index  Visibility  \n",
              "0        5.61          0.6       0.0        6.22  \n",
              "1        5.61          0.6       0.0        6.22  \n",
              "2        5.61          0.6       0.0        6.22  \n",
              "3        5.61          0.6       0.0        6.22  \n",
              "4        5.61          0.6       0.0        6.22  \n",
              "\n",
              "[5 rows x 21 columns]"
            ]
          },
          "execution_count": 20,
          "metadata": {},
          "output_type": "execute_result"
        }
      ],
      "source": [
        "df_46A_merge.head(5)"
      ]
    },
    {
      "cell_type": "code",
      "execution_count": 21,
      "metadata": {
        "pycharm": {}
      },
      "outputs": [],
      "source": [
        "# The weather data contains NaN values so replacing with the mean\n",
        "df_46A_merge \u003d df_46A_merge.fillna(df_46A_merge.mean())"
      ]
    },
    {
      "cell_type": "code",
      "execution_count": 22,
      "metadata": {
        "pycharm": {}
      },
      "outputs": [],
      "source": [
        "df_46A_merge.to_csv(\u0027df_46A_final.csv\u0027, index\u003dFalse)"
      ]
    },
    {
      "cell_type": "markdown",
      "metadata": {
        "pycharm": {}
      },
      "source": [
        "# Machine Learning Section"
      ]
    },
    {
      "cell_type": "code",
      "execution_count": 28,
      "metadata": {
        "pycharm": {}
      },
      "outputs": [],
      "source": [
        "import seaborn as sns\n",
        "from sklearn.linear_model import LinearRegression\n",
        "from sklearn.ensemble import RandomForestRegressor\n",
        "from sklearn import svm\n",
        "from sklearn.preprocessing import StandardScaler\n",
        "from sklearn.neural_network import MLPRegressor\n",
        "from sklearn.model_selection import train_test_split\n",
        "from sklearn import metrics\n",
        "from sklearn.metrics import mean_squared_log_error\n",
        "pd.options.mode.chained_assignment\u003dNone\n",
        "%matplotlib inline"
      ]
    },
    {
      "cell_type": "markdown",
      "metadata": {
        "pycharm": {}
      },
      "source": [
        "# Section for Random Forest"
      ]
    },
    {
      "cell_type": "code",
      "execution_count": 29,
      "metadata": {
        "pycharm": {}
      },
      "outputs": [
        {
          "data": {
            "text/plain": [
              "RandomForestRegressor(bootstrap\u003dTrue, criterion\u003d\u0027mse\u0027, max_depth\u003d15,\n",
              "                      max_features\u003d\u0027auto\u0027, max_leaf_nodes\u003dNone,\n",
              "                      min_impurity_decrease\u003d0.0, min_impurity_split\u003dNone,\n",
              "                      min_samples_leaf\u003d1, min_samples_split\u003d2,\n",
              "                      min_weight_fraction_leaf\u003d0.0, n_estimators\u003d20,\n",
              "                      n_jobs\u003dNone, oob_score\u003dFalse, random_state\u003dNone,\n",
              "                      verbose\u003d0, warm_start\u003dFalse)"
            ]
          },
          "execution_count": 29,
          "metadata": {},
          "output_type": "execute_result"
        }
      ],
      "source": [
        "input_to_model_RF\u003dpd.DataFrame(df_46A[[\u0027Sequence\u0027,\u0027StopID\u0027,\u0027Planned_Arr\u0027,\u0027Day_Monday\u0027,\u0027Day_Saturday\u0027,\u0027Day_Sunday\u0027, \n",
        "                                    \u0027Day_Tuesday\u0027, \u0027Day_Thursday\u0027,\u0027Day_Wednesday\u0027]])\n",
        "#Day_Friday has been taken out because if mon-sun all are zeroes that means friday is 1. Using dummy one hot encoding concept\n",
        "#print(input_model)\n",
        "output_RF \u003d df_46A[\u0027Actual_Arr\u0027]\n",
        "X_train_RF,X_test_RF,Y_train_RF,Y_test_RF\u003dtrain_test_split(input_to_model_RF,output_RF,test_size\u003d0.2)\n",
        "rf\u003dRandomForestRegressor(max_depth\u003d15,n_estimators\u003d20)\n",
        "rf.fit(X_train_RF,Y_train_RF)"
      ]
    },
    {
      "cell_type": "code",
      "execution_count": 30,
      "metadata": {
        "scrolled": true,
        "pycharm": {}
      },
      "outputs": [],
      "source": [
        "prediction_RF\u003drf.predict(X_test_RF)"
      ]
    },
    {
      "cell_type": "code",
      "execution_count": 31,
      "metadata": {
        "pycharm": {}
      },
      "outputs": [
        {
          "name": "stdout",
          "output_type": "stream",
          "text": [
            "393.34070706661043\n"
          ]
        }
      ],
      "source": [
        "#Model Evaluation Parameters: RMSE\n",
        "print(np.sqrt(metrics.mean_squared_error(Y_test_RF,prediction_RF)))"
      ]
    },
    {
      "cell_type": "code",
      "execution_count": 32,
      "metadata": {
        "pycharm": {}
      },
      "outputs": [
        {
          "data": {
            "text/plain": [
              "7.184532227221774e-05"
            ]
          },
          "execution_count": 32,
          "metadata": {},
          "output_type": "execute_result"
        }
      ],
      "source": [
        "#MSLE\n",
        "mean_squared_log_error(Y_test_RF,prediction_RF)"
      ]
    },
    {
      "cell_type": "markdown",
      "metadata": {
        "pycharm": {}
      },
      "source": [
        "## Now to test with the weather data to see if it is worth adding to the VM "
      ]
    },
    {
      "cell_type": "code",
      "execution_count": 33,
      "metadata": {
        "pycharm": {}
      },
      "outputs": [
        {
          "data": {
            "text/plain": [
              "RandomForestRegressor(bootstrap\u003dTrue, criterion\u003d\u0027mse\u0027, max_depth\u003d15,\n",
              "                      max_features\u003d\u0027auto\u0027, max_leaf_nodes\u003dNone,\n",
              "                      min_impurity_decrease\u003d0.0, min_impurity_split\u003dNone,\n",
              "                      min_samples_leaf\u003d1, min_samples_split\u003d2,\n",
              "                      min_weight_fraction_leaf\u003d0.0, n_estimators\u003d20,\n",
              "                      n_jobs\u003dNone, oob_score\u003dFalse, random_state\u003dNone,\n",
              "                      verbose\u003d0, warm_start\u003dFalse)"
            ]
          },
          "execution_count": 33,
          "metadata": {},
          "output_type": "execute_result"
        }
      ],
      "source": [
        "input_to_model_RFw\u003dpd.DataFrame(df_46A_merge[[\u0027Sequence\u0027,\u0027StopID\u0027,\u0027Planned_Arr\u0027,\u0027Day_Monday\u0027,\u0027Day_Saturday\u0027,\u0027Day_Sunday\u0027,\n",
        "                                          \u0027Day_Tuesday\u0027,\u0027Day_Thursday\u0027,\u0027Day_Wednesday\u0027, \u0027Precip Prob\u0027, \u0027Temperature\u0027,\n",
        "                                         \u0027Wind Speed\u0027, \u0027Cloud Cover\u0027, \u0027UV Index\u0027, \u0027Visibility\u0027]])\n",
        "\n",
        "output_RFw \u003d df_46A_merge[\u0027Actual_Arr\u0027]\n",
        "X_train_RFw,X_test_RFw,Y_train_RFw,Y_test_RFw\u003dtrain_test_split(input_to_model_RFw,output_RFw,test_size\u003d0.2)\n",
        "rf\u003dRandomForestRegressor(max_depth\u003d15,n_estimators\u003d20)\n",
        "rf.fit(X_train_RFw,Y_train_RFw)"
      ]
    },
    {
      "cell_type": "code",
      "execution_count": 34,
      "metadata": {
        "pycharm": {}
      },
      "outputs": [],
      "source": [
        "prediction_RFw\u003drf.predict(X_test_RFw)"
      ]
    },
    {
      "cell_type": "code",
      "execution_count": 35,
      "metadata": {
        "pycharm": {}
      },
      "outputs": [
        {
          "name": "stdout",
          "output_type": "stream",
          "text": [
            "312.7956272850261\n"
          ]
        }
      ],
      "source": [
        "print(np.sqrt(metrics.mean_squared_error(Y_test_RFw,prediction_RFw)))"
      ]
    },
    {
      "cell_type": "markdown",
      "metadata": {
        "pycharm": {}
      },
      "source": "## Weather data improves model by 80 seconds so once the pickle size does not get increased by too much it should be added on later"
    },
    {
      "cell_type": "markdown",
      "metadata": {
        "pycharm": {}
      },
      "source": [
        "# Linear Regression Section"
      ]
    },
    {
      "cell_type": "code",
      "execution_count": 36,
      "metadata": {
        "pycharm": {}
      },
      "outputs": [
        {
          "data": {
            "text/plain": [
              "LinearRegression(copy_X\u003dTrue, fit_intercept\u003dTrue, n_jobs\u003dNone, normalize\u003dFalse)"
            ]
          },
          "execution_count": 36,
          "metadata": {},
          "output_type": "execute_result"
        }
      ],
      "source": [
        "input_to_model_LR\u003dpd.DataFrame(df_46A[[\u0027Sequence\u0027,\u0027StopID\u0027,\u0027Planned_Arr\u0027,\u0027Day_Monday\u0027,\u0027Day_Saturday\u0027,\u0027Day_Sunday\u0027, \n",
        "                                    \u0027Day_Tuesday\u0027, \u0027Day_Thursday\u0027,\u0027Day_Wednesday\u0027]])\n",
        "\n",
        "output_LR \u003d df_46A[\u0027Actual_Arr\u0027]\n",
        "X_train_LR,X_test_LR,Y_train_LR,Y_test_LR\u003dtrain_test_split(input_to_model_LR,output_LR,test_size\u003d0.2)\n",
        "lr\u003dLinearRegression()\n",
        "lr.fit(X_train_LR,Y_train_LR)"
      ]
    },
    {
      "cell_type": "code",
      "execution_count": 39,
      "metadata": {
        "scrolled": true,
        "pycharm": {}
      },
      "outputs": [],
      "source": [
        "prediction_LR\u003dlr.predict(X_test_LR)"
      ]
    },
    {
      "cell_type": "code",
      "execution_count": 40,
      "metadata": {
        "pycharm": {}
      },
      "outputs": [
        {
          "name": "stdout",
          "output_type": "stream",
          "text": [
            "443.19990953813715\n"
          ]
        }
      ],
      "source": [
        "print(np.sqrt(metrics.mean_squared_error(Y_test_LR,prediction_LR)))"
      ]
    },
    {
      "cell_type": "markdown",
      "metadata": {
        "pycharm": {}
      },
      "source": [
        "# Support Vector Machine "
      ]
    },
    {
      "cell_type": "code",
      "execution_count": 42,
      "metadata": {
        "pycharm": {}
      },
      "outputs": [],
      "source": [
        "# The SVM takes too long for the whole set so testing it on a \n",
        "# random sample of 100000\n",
        "svm_sample \u003d df_46A.sample(n\u003d10000)"
      ]
    },
    {
      "cell_type": "code",
      "execution_count": 43,
      "metadata": {
        "pycharm": {}
      },
      "outputs": [],
      "source": [
        "input_to_model_SVM\u003dpd.DataFrame(svm_sample[[\u0027Sequence\u0027,\u0027StopID\u0027,\u0027Planned_Arr\u0027,\u0027Day_Monday\u0027,\u0027Day_Saturday\u0027,\n",
        "                                            \u0027Day_Sunday\u0027, \u0027Day_Tuesday\u0027,\u0027Day_Thursday\u0027,\u0027Day_Wednesday\u0027]])\n",
        "\n",
        "output_SVM \u003d pd.DataFrame(svm_sample[\u0027Actual_Arr\u0027])"
      ]
    },
    {
      "cell_type": "code",
      "execution_count": 44,
      "metadata": {
        "pycharm": {}
      },
      "outputs": [],
      "source": [
        "feat_scaler \u003d StandardScaler()\n",
        "tar_scaler \u003d StandardScaler()"
      ]
    },
    {
      "cell_type": "code",
      "execution_count": 45,
      "metadata": {
        "pycharm": {}
      },
      "outputs": [],
      "source": [
        "input_to_model_SVM \u003d feat_scaler.fit_transform(input_to_model_SVM)\n",
        "output_SVM \u003d tar_scaler.fit_transform(output_SVM)"
      ]
    },
    {
      "cell_type": "code",
      "execution_count": 46,
      "metadata": {
        "pycharm": {}
      },
      "outputs": [],
      "source": [
        "X_train_SVM,X_test_SVM,Y_train_SVM,Y_test_SVM\u003dtrain_test_split(input_to_model_SVM,output_SVM,test_size\u003d0.2)"
      ]
    },
    {
      "cell_type": "code",
      "execution_count": 54,
      "metadata": {
        "pycharm": {}
      },
      "outputs": [
        {
          "name": "stderr",
          "output_type": "stream",
          "text": [
            "/anaconda3/envs/dublinbus/lib/python3.7/site-packages/sklearn/utils/validation.py:724: DataConversionWarning: A column-vector y was passed when a 1d array was expected. Please change the shape of y to (n_samples, ), for example using ravel().\n",
            "  y \u003d column_or_1d(y, warn\u003dTrue)\n"
          ]
        },
        {
          "data": {
            "text/plain": [
              "SVR(C\u003d1.0, cache_size\u003d200, coef0\u003d0.0, degree\u003d3, epsilon\u003d0.1,\n",
              "    gamma\u003d\u0027auto_deprecated\u0027, kernel\u003d\u0027linear\u0027, max_iter\u003d-1, shrinking\u003dTrue,\n",
              "    tol\u003d0.001, verbose\u003dFalse)"
            ]
          },
          "execution_count": 54,
          "metadata": {},
          "output_type": "execute_result"
        }
      ],
      "source": [
        "svm_model \u003d svm.SVR(kernel\u003d\u0027linear\u0027)\n",
        "svm_model.fit(X_train_SVM,Y_train_SVM)"
      ]
    },
    {
      "cell_type": "code",
      "execution_count": 55,
      "metadata": {
        "scrolled": true,
        "pycharm": {}
      },
      "outputs": [],
      "source": [
        "prediction_SVM\u003dsvm_model.predict(X_test_SVM)"
      ]
    },
    {
      "cell_type": "code",
      "execution_count": 56,
      "metadata": {
        "pycharm": {}
      },
      "outputs": [
        {
          "data": {
            "text/plain": [
              "0.997755547370531"
            ]
          },
          "execution_count": 56,
          "metadata": {},
          "output_type": "execute_result"
        }
      ],
      "source": [
        "svm_model.score(X_test_SVM,Y_test_SVM)"
      ]
    },
    {
      "cell_type": "code",
      "execution_count": 57,
      "metadata": {
        "pycharm": {}
      },
      "outputs": [
        {
          "name": "stdout",
          "output_type": "stream",
          "text": [
            "0.047761886531414076\n"
          ]
        }
      ],
      "source": "print(np.sqrt(metrics.mean_squared_error(Y_test_SVM,prediction_SVM)))"
    },
    {
      "cell_type": "markdown",
      "source": "### The SVM seems promising but there seems to be too high of an accuracy from the model. This could indicated an issue with its implementation\n### In any case, it takes too long to run on a small set of the data and the resulting pickle size could be too large\n",
      "metadata": {
        "pycharm": {
          "metadata": false
        }
      }
    },
    {
      "cell_type": "markdown",
      "metadata": {
        "pycharm": {}
      },
      "source": "# Neural Network for Regression"
    },
    {
      "cell_type": "code",
      "execution_count": 58,
      "metadata": {
        "pycharm": {}
      },
      "outputs": [
        {
          "data": {
            "text/plain": [
              "MLPRegressor(activation\u003d\u0027relu\u0027, alpha\u003d1e-05, batch_size\u003d\u0027auto\u0027, beta_1\u003d0.9,\n",
              "             beta_2\u003d0.999, early_stopping\u003dFalse, epsilon\u003d1e-08,\n",
              "             hidden_layer_sizes\u003d(100,), learning_rate\u003d\u0027constant\u0027,\n",
              "             learning_rate_init\u003d0.001, max_iter\u003d200, momentum\u003d0.9,\n",
              "             n_iter_no_change\u003d10, nesterovs_momentum\u003dTrue, power_t\u003d0.5,\n",
              "             random_state\u003d1, shuffle\u003dTrue, solver\u003d\u0027lbfgs\u0027, tol\u003d0.0001,\n",
              "             validation_fraction\u003d0.1, verbose\u003dFalse, warm_start\u003dFalse)"
            ]
          },
          "execution_count": 58,
          "metadata": {},
          "output_type": "execute_result"
        }
      ],
      "source": [
        "input_to_model_NN\u003dpd.DataFrame(df_46A[[\u0027Sequence\u0027,\u0027StopID\u0027,\u0027Planned_Arr\u0027,\u0027Day_Monday\u0027,\u0027Day_Saturday\u0027,\u0027Day_Sunday\u0027, \n",
        "                                    \u0027Day_Tuesday\u0027, \u0027Day_Thursday\u0027,\u0027Day_Wednesday\u0027]])\n",
        "\n",
        "output_NN \u003d df_46A[\u0027Actual_Arr\u0027]\n",
        "X_train_NN,X_test_NN,Y_train_NN,Y_test_NN\u003dtrain_test_split(input_to_model_NN,output_NN,test_size\u003d0.2)\n",
        "nn_model \u003d MLPRegressor(solver\u003d\u0027lbfgs\u0027,alpha\u003d1e-5,random_state\u003d1)\n",
        "nn_model.fit(X_train_NN,Y_train_NN)"
      ]
    },
    {
      "cell_type": "code",
      "execution_count": 61,
      "metadata": {
        "scrolled": true,
        "pycharm": {}
      },
      "outputs": [],
      "source": [
        "prediction_NN\u003dnn_model.predict(X_test_NN)"
      ]
    },
    {
      "cell_type": "code",
      "execution_count": 62,
      "metadata": {
        "pycharm": {}
      },
      "outputs": [
        {
          "name": "stdout",
          "output_type": "stream",
          "text": [
            "444.5313872085841\n"
          ]
        }
      ],
      "source": [
        "print(np.sqrt(metrics.mean_squared_error(Y_test_NN,prediction_NN)))"
      ]
    },
    {
      "cell_type": "code",
      "execution_count": 63,
      "metadata": {
        "pycharm": {}
      },
      "outputs": [
        {
          "data": {
            "text/plain": [
              "9.091714759722933e-05"
            ]
          },
          "execution_count": 63,
          "metadata": {},
          "output_type": "execute_result"
        }
      ],
      "source": "mean_squared_log_error(Y_test_NN,prediction_NN)\n"
    },
    {
      "cell_type": "markdown",
      "source": "### While accurate, the Neural Network takes too long to run on the data and results in slow calculations\n",
      "metadata": {
        "pycharm": {
          "metadata": false,
          "name": "#%% md\n"
        }
      }
    },
    {
      "cell_type": "markdown",
      "metadata": {
        "pycharm": {}
      },
      "source": "### It can be seen that a Random Forest gives the best RMSE by nearly a minute\n### The other benefit is the relatively small Pickle size and after some testing the above parameters minimize over-fitting\n### The Randome Forest is the model that will be used"
    }
  ],
  "metadata": {
    "kernelspec": {
      "display_name": "Python 3",
      "language": "python",
      "name": "python3"
    },
    "language_info": {
      "codemirror_mode": {
        "name": "ipython",
        "version": 3
      },
      "file_extension": ".py",
      "mimetype": "text/x-python",
      "name": "python",
      "nbconvert_exporter": "python",
      "pygments_lexer": "ipython3",
      "version": "3.7.1"
    }
  },
  "nbformat": 4,
  "nbformat_minor": 2
}