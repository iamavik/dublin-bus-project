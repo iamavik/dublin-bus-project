{
 "cells": [
  {
   "cell_type": "markdown",
   "metadata": {},
   "source": [
    "# The other ML notebook contains the means to get the data from the SQL Workbench\n",
    "## This has been made into a CSV for the means of running tests on different models"
   ]
  },
  {
   "cell_type": "code",
   "execution_count": 1,
   "metadata": {},
   "outputs": [],
   "source": [
    "import numpy as np\n",
    "import pandas as pd\n",
    "# read in data from csv file to pandas dataframe.  \n",
    "df_46A = pd.read_csv('df_46A.csv',  keep_default_na=True, sep=',\\s+', delimiter=',', skipinitialspace=True)\n",
    "df_wd = pd.read_csv('weather_data_final.csv',  keep_default_na=True, sep=',\\s+', delimiter=',', skipinitialspace=True)"
   ]
  },
  {
   "cell_type": "code",
   "execution_count": 2,
   "metadata": {},
   "outputs": [
    {
     "data": {
      "text/plain": [
       "(241967, 15)"
      ]
     },
     "execution_count": 2,
     "metadata": {},
     "output_type": "execute_result"
    }
   ],
   "source": [
    "df_46A.shape"
   ]
  },
  {
   "cell_type": "code",
   "execution_count": 3,
   "metadata": {
    "scrolled": false
   },
   "outputs": [
    {
     "data": {
      "text/html": [
       "<div>\n",
       "<style scoped>\n",
       "    .dataframe tbody tr th:only-of-type {\n",
       "        vertical-align: middle;\n",
       "    }\n",
       "\n",
       "    .dataframe tbody tr th {\n",
       "        vertical-align: top;\n",
       "    }\n",
       "\n",
       "    .dataframe thead th {\n",
       "        text-align: right;\n",
       "    }\n",
       "</style>\n",
       "<table border=\"1\" class=\"dataframe\">\n",
       "  <thead>\n",
       "    <tr style=\"text-align: right;\">\n",
       "      <th></th>\n",
       "      <th>DateTime</th>\n",
       "      <th>Sequence</th>\n",
       "      <th>StopID</th>\n",
       "      <th>Planned_Arr</th>\n",
       "      <th>Actual_Arr</th>\n",
       "      <th>Actual_Depart</th>\n",
       "      <th>Extracted_Date</th>\n",
       "      <th>Day</th>\n",
       "      <th>Day_Friday</th>\n",
       "      <th>Day_Monday</th>\n",
       "      <th>Day_Saturday</th>\n",
       "      <th>Day_Sunday</th>\n",
       "      <th>Day_Thursday</th>\n",
       "      <th>Day_Tuesday</th>\n",
       "      <th>Day_Wednesday</th>\n",
       "    </tr>\n",
       "  </thead>\n",
       "  <tbody>\n",
       "    <tr>\n",
       "      <th>0</th>\n",
       "      <td>24-DEC-18 00:00:00</td>\n",
       "      <td>14</td>\n",
       "      <td>6059</td>\n",
       "      <td>54291</td>\n",
       "      <td>54158</td>\n",
       "      <td>54244</td>\n",
       "      <td>24-DEC-18</td>\n",
       "      <td>Monday</td>\n",
       "      <td>0</td>\n",
       "      <td>1</td>\n",
       "      <td>0</td>\n",
       "      <td>0</td>\n",
       "      <td>0</td>\n",
       "      <td>0</td>\n",
       "      <td>0</td>\n",
       "    </tr>\n",
       "    <tr>\n",
       "      <th>1</th>\n",
       "      <td>24-DEC-18 00:00:00</td>\n",
       "      <td>15</td>\n",
       "      <td>334</td>\n",
       "      <td>54462</td>\n",
       "      <td>54348</td>\n",
       "      <td>54401</td>\n",
       "      <td>24-DEC-18</td>\n",
       "      <td>Monday</td>\n",
       "      <td>0</td>\n",
       "      <td>1</td>\n",
       "      <td>0</td>\n",
       "      <td>0</td>\n",
       "      <td>0</td>\n",
       "      <td>0</td>\n",
       "      <td>0</td>\n",
       "    </tr>\n",
       "    <tr>\n",
       "      <th>2</th>\n",
       "      <td>24-DEC-18 00:00:00</td>\n",
       "      <td>16</td>\n",
       "      <td>406</td>\n",
       "      <td>54728</td>\n",
       "      <td>54588</td>\n",
       "      <td>54646</td>\n",
       "      <td>24-DEC-18</td>\n",
       "      <td>Monday</td>\n",
       "      <td>0</td>\n",
       "      <td>1</td>\n",
       "      <td>0</td>\n",
       "      <td>0</td>\n",
       "      <td>0</td>\n",
       "      <td>0</td>\n",
       "      <td>0</td>\n",
       "    </tr>\n",
       "    <tr>\n",
       "      <th>3</th>\n",
       "      <td>24-DEC-18 00:00:00</td>\n",
       "      <td>17</td>\n",
       "      <td>747</td>\n",
       "      <td>54875</td>\n",
       "      <td>54773</td>\n",
       "      <td>54820</td>\n",
       "      <td>24-DEC-18</td>\n",
       "      <td>Monday</td>\n",
       "      <td>0</td>\n",
       "      <td>1</td>\n",
       "      <td>0</td>\n",
       "      <td>0</td>\n",
       "      <td>0</td>\n",
       "      <td>0</td>\n",
       "      <td>0</td>\n",
       "    </tr>\n",
       "    <tr>\n",
       "      <th>4</th>\n",
       "      <td>24-DEC-18 00:00:00</td>\n",
       "      <td>18</td>\n",
       "      <td>842</td>\n",
       "      <td>54961</td>\n",
       "      <td>54964</td>\n",
       "      <td>54983</td>\n",
       "      <td>24-DEC-18</td>\n",
       "      <td>Monday</td>\n",
       "      <td>0</td>\n",
       "      <td>1</td>\n",
       "      <td>0</td>\n",
       "      <td>0</td>\n",
       "      <td>0</td>\n",
       "      <td>0</td>\n",
       "      <td>0</td>\n",
       "    </tr>\n",
       "  </tbody>\n",
       "</table>\n",
       "</div>"
      ],
      "text/plain": [
       "             DateTime  Sequence  StopID  Planned_Arr  Actual_Arr  \\\n",
       "0  24-DEC-18 00:00:00        14    6059        54291       54158   \n",
       "1  24-DEC-18 00:00:00        15     334        54462       54348   \n",
       "2  24-DEC-18 00:00:00        16     406        54728       54588   \n",
       "3  24-DEC-18 00:00:00        17     747        54875       54773   \n",
       "4  24-DEC-18 00:00:00        18     842        54961       54964   \n",
       "\n",
       "   Actual_Depart Extracted_Date     Day  Day_Friday  Day_Monday  Day_Saturday  \\\n",
       "0          54244      24-DEC-18  Monday           0           1             0   \n",
       "1          54401      24-DEC-18  Monday           0           1             0   \n",
       "2          54646      24-DEC-18  Monday           0           1             0   \n",
       "3          54820      24-DEC-18  Monday           0           1             0   \n",
       "4          54983      24-DEC-18  Monday           0           1             0   \n",
       "\n",
       "   Day_Sunday  Day_Thursday  Day_Tuesday  Day_Wednesday  \n",
       "0           0             0            0              0  \n",
       "1           0             0            0              0  \n",
       "2           0             0            0              0  \n",
       "3           0             0            0              0  \n",
       "4           0             0            0              0  "
      ]
     },
     "execution_count": 3,
     "metadata": {},
     "output_type": "execute_result"
    }
   ],
   "source": [
    "df_46A.head(5)"
   ]
  },
  {
   "cell_type": "code",
   "execution_count": 4,
   "metadata": {},
   "outputs": [
    {
     "data": {
      "text/plain": [
       "(21686, 8)"
      ]
     },
     "execution_count": 4,
     "metadata": {},
     "output_type": "execute_result"
    }
   ],
   "source": [
    "df_wd.shape"
   ]
  },
  {
   "cell_type": "markdown",
   "metadata": {},
   "source": [
    "### Right, now let's add the weather data and organize the new input features"
   ]
  },
  {
   "cell_type": "code",
   "execution_count": 5,
   "metadata": {
    "scrolled": true
   },
   "outputs": [
    {
     "data": {
      "text/html": [
       "<div>\n",
       "<style scoped>\n",
       "    .dataframe tbody tr th:only-of-type {\n",
       "        vertical-align: middle;\n",
       "    }\n",
       "\n",
       "    .dataframe tbody tr th {\n",
       "        vertical-align: top;\n",
       "    }\n",
       "\n",
       "    .dataframe thead th {\n",
       "        text-align: right;\n",
       "    }\n",
       "</style>\n",
       "<table border=\"1\" class=\"dataframe\">\n",
       "  <thead>\n",
       "    <tr style=\"text-align: right;\">\n",
       "      <th></th>\n",
       "      <th>hourly_data_time</th>\n",
       "      <th>hourly_data_precip_intensity</th>\n",
       "      <th>hourly_data_precip_probability</th>\n",
       "      <th>hourly_data_apparent_temperature</th>\n",
       "      <th>hourly_data_wind_speed</th>\n",
       "      <th>hourly_data_cloud_cover</th>\n",
       "      <th>hourly_data_uv_index</th>\n",
       "      <th>hourly_data_visibility</th>\n",
       "    </tr>\n",
       "  </thead>\n",
       "  <tbody>\n",
       "    <tr>\n",
       "      <th>0</th>\n",
       "      <td>2017-01-01 00:00:00</td>\n",
       "      <td>0.0</td>\n",
       "      <td>0.0</td>\n",
       "      <td>39.72</td>\n",
       "      <td>7.03</td>\n",
       "      <td>0.75</td>\n",
       "      <td>0.0</td>\n",
       "      <td>6.216</td>\n",
       "    </tr>\n",
       "    <tr>\n",
       "      <th>1</th>\n",
       "      <td>2017-01-01 01:00:00</td>\n",
       "      <td>0.0</td>\n",
       "      <td>0.0</td>\n",
       "      <td>39.79</td>\n",
       "      <td>3.84</td>\n",
       "      <td>0.75</td>\n",
       "      <td>0.0</td>\n",
       "      <td>5.049</td>\n",
       "    </tr>\n",
       "    <tr>\n",
       "      <th>2</th>\n",
       "      <td>2017-01-01 02:00:00</td>\n",
       "      <td>0.0</td>\n",
       "      <td>0.0</td>\n",
       "      <td>38.21</td>\n",
       "      <td>5.91</td>\n",
       "      <td>0.75</td>\n",
       "      <td>0.0</td>\n",
       "      <td>6.216</td>\n",
       "    </tr>\n",
       "    <tr>\n",
       "      <th>3</th>\n",
       "      <td>2017-01-01 03:00:00</td>\n",
       "      <td>0.0</td>\n",
       "      <td>0.0</td>\n",
       "      <td>37.28</td>\n",
       "      <td>7.53</td>\n",
       "      <td>0.75</td>\n",
       "      <td>0.0</td>\n",
       "      <td>6.216</td>\n",
       "    </tr>\n",
       "    <tr>\n",
       "      <th>4</th>\n",
       "      <td>2017-01-01 04:00:00</td>\n",
       "      <td>0.0</td>\n",
       "      <td>0.0</td>\n",
       "      <td>35.74</td>\n",
       "      <td>6.47</td>\n",
       "      <td>0.75</td>\n",
       "      <td>0.0</td>\n",
       "      <td>6.216</td>\n",
       "    </tr>\n",
       "  </tbody>\n",
       "</table>\n",
       "</div>"
      ],
      "text/plain": [
       "      hourly_data_time  hourly_data_precip_intensity  \\\n",
       "0  2017-01-01 00:00:00                           0.0   \n",
       "1  2017-01-01 01:00:00                           0.0   \n",
       "2  2017-01-01 02:00:00                           0.0   \n",
       "3  2017-01-01 03:00:00                           0.0   \n",
       "4  2017-01-01 04:00:00                           0.0   \n",
       "\n",
       "   hourly_data_precip_probability  hourly_data_apparent_temperature  \\\n",
       "0                             0.0                             39.72   \n",
       "1                             0.0                             39.79   \n",
       "2                             0.0                             38.21   \n",
       "3                             0.0                             37.28   \n",
       "4                             0.0                             35.74   \n",
       "\n",
       "   hourly_data_wind_speed  hourly_data_cloud_cover  hourly_data_uv_index  \\\n",
       "0                    7.03                     0.75                   0.0   \n",
       "1                    3.84                     0.75                   0.0   \n",
       "2                    5.91                     0.75                   0.0   \n",
       "3                    7.53                     0.75                   0.0   \n",
       "4                    6.47                     0.75                   0.0   \n",
       "\n",
       "   hourly_data_visibility  \n",
       "0                   6.216  \n",
       "1                   5.049  \n",
       "2                   6.216  \n",
       "3                   6.216  \n",
       "4                   6.216  "
      ]
     },
     "execution_count": 5,
     "metadata": {},
     "output_type": "execute_result"
    }
   ],
   "source": [
    "df_wd.head(5)"
   ]
  },
  {
   "cell_type": "code",
   "execution_count": 6,
   "metadata": {},
   "outputs": [],
   "source": [
    "df_wd.rename({'hourly_data_time':'DateTime','hourly_data_precip_intensity':'Precip Intensity',\n",
    "             'hourly_data_precip_probability':'Precip Prob', 'hourly_data_apparent_temperature':'Temperature',\n",
    "             'hourly_data_wind_speed':'Wind Speed', 'hourly_data_cloud_cover':'Cloud Cover',\n",
    "             'hourly_data_uv_index':'UV Index','hourly_data_visibility':'Visibility'},axis=1,inplace=True)\n"
   ]
  },
  {
   "cell_type": "code",
   "execution_count": 7,
   "metadata": {},
   "outputs": [
    {
     "data": {
      "text/html": [
       "<div>\n",
       "<style scoped>\n",
       "    .dataframe tbody tr th:only-of-type {\n",
       "        vertical-align: middle;\n",
       "    }\n",
       "\n",
       "    .dataframe tbody tr th {\n",
       "        vertical-align: top;\n",
       "    }\n",
       "\n",
       "    .dataframe thead th {\n",
       "        text-align: right;\n",
       "    }\n",
       "</style>\n",
       "<table border=\"1\" class=\"dataframe\">\n",
       "  <thead>\n",
       "    <tr style=\"text-align: right;\">\n",
       "      <th></th>\n",
       "      <th>DateTime</th>\n",
       "      <th>Precip Intensity</th>\n",
       "      <th>Precip Prob</th>\n",
       "      <th>Temperature</th>\n",
       "      <th>Wind Speed</th>\n",
       "      <th>Cloud Cover</th>\n",
       "      <th>UV Index</th>\n",
       "      <th>Visibility</th>\n",
       "    </tr>\n",
       "  </thead>\n",
       "  <tbody>\n",
       "    <tr>\n",
       "      <th>0</th>\n",
       "      <td>2017-01-01 00:00:00</td>\n",
       "      <td>0.0</td>\n",
       "      <td>0.0</td>\n",
       "      <td>39.72</td>\n",
       "      <td>7.03</td>\n",
       "      <td>0.75</td>\n",
       "      <td>0.0</td>\n",
       "      <td>6.216</td>\n",
       "    </tr>\n",
       "    <tr>\n",
       "      <th>1</th>\n",
       "      <td>2017-01-01 01:00:00</td>\n",
       "      <td>0.0</td>\n",
       "      <td>0.0</td>\n",
       "      <td>39.79</td>\n",
       "      <td>3.84</td>\n",
       "      <td>0.75</td>\n",
       "      <td>0.0</td>\n",
       "      <td>5.049</td>\n",
       "    </tr>\n",
       "    <tr>\n",
       "      <th>2</th>\n",
       "      <td>2017-01-01 02:00:00</td>\n",
       "      <td>0.0</td>\n",
       "      <td>0.0</td>\n",
       "      <td>38.21</td>\n",
       "      <td>5.91</td>\n",
       "      <td>0.75</td>\n",
       "      <td>0.0</td>\n",
       "      <td>6.216</td>\n",
       "    </tr>\n",
       "    <tr>\n",
       "      <th>3</th>\n",
       "      <td>2017-01-01 03:00:00</td>\n",
       "      <td>0.0</td>\n",
       "      <td>0.0</td>\n",
       "      <td>37.28</td>\n",
       "      <td>7.53</td>\n",
       "      <td>0.75</td>\n",
       "      <td>0.0</td>\n",
       "      <td>6.216</td>\n",
       "    </tr>\n",
       "    <tr>\n",
       "      <th>4</th>\n",
       "      <td>2017-01-01 04:00:00</td>\n",
       "      <td>0.0</td>\n",
       "      <td>0.0</td>\n",
       "      <td>35.74</td>\n",
       "      <td>6.47</td>\n",
       "      <td>0.75</td>\n",
       "      <td>0.0</td>\n",
       "      <td>6.216</td>\n",
       "    </tr>\n",
       "  </tbody>\n",
       "</table>\n",
       "</div>"
      ],
      "text/plain": [
       "              DateTime  Precip Intensity  Precip Prob  Temperature  \\\n",
       "0  2017-01-01 00:00:00               0.0          0.0        39.72   \n",
       "1  2017-01-01 01:00:00               0.0          0.0        39.79   \n",
       "2  2017-01-01 02:00:00               0.0          0.0        38.21   \n",
       "3  2017-01-01 03:00:00               0.0          0.0        37.28   \n",
       "4  2017-01-01 04:00:00               0.0          0.0        35.74   \n",
       "\n",
       "   Wind Speed  Cloud Cover  UV Index  Visibility  \n",
       "0        7.03         0.75       0.0       6.216  \n",
       "1        3.84         0.75       0.0       5.049  \n",
       "2        5.91         0.75       0.0       6.216  \n",
       "3        7.53         0.75       0.0       6.216  \n",
       "4        6.47         0.75       0.0       6.216  "
      ]
     },
     "execution_count": 7,
     "metadata": {},
     "output_type": "execute_result"
    }
   ],
   "source": [
    "df_wd.head(5)"
   ]
  },
  {
   "cell_type": "code",
   "execution_count": 8,
   "metadata": {},
   "outputs": [
    {
     "data": {
      "text/html": [
       "<div>\n",
       "<style scoped>\n",
       "    .dataframe tbody tr th:only-of-type {\n",
       "        vertical-align: middle;\n",
       "    }\n",
       "\n",
       "    .dataframe tbody tr th {\n",
       "        vertical-align: top;\n",
       "    }\n",
       "\n",
       "    .dataframe thead th {\n",
       "        text-align: right;\n",
       "    }\n",
       "</style>\n",
       "<table border=\"1\" class=\"dataframe\">\n",
       "  <thead>\n",
       "    <tr style=\"text-align: right;\">\n",
       "      <th></th>\n",
       "      <th>count</th>\n",
       "      <th>mean</th>\n",
       "      <th>std</th>\n",
       "      <th>min</th>\n",
       "      <th>25%</th>\n",
       "      <th>50%</th>\n",
       "      <th>75%</th>\n",
       "      <th>max</th>\n",
       "    </tr>\n",
       "  </thead>\n",
       "  <tbody>\n",
       "    <tr>\n",
       "      <th>Precip Intensity</th>\n",
       "      <td>21686.0</td>\n",
       "      <td>0.000092</td>\n",
       "      <td>0.009603</td>\n",
       "      <td>0.00</td>\n",
       "      <td>0.000</td>\n",
       "      <td>0.000</td>\n",
       "      <td>0.000</td>\n",
       "      <td>1.00</td>\n",
       "    </tr>\n",
       "    <tr>\n",
       "      <th>Precip Prob</th>\n",
       "      <td>21686.0</td>\n",
       "      <td>0.028037</td>\n",
       "      <td>0.165081</td>\n",
       "      <td>0.00</td>\n",
       "      <td>0.000</td>\n",
       "      <td>0.000</td>\n",
       "      <td>0.000</td>\n",
       "      <td>1.00</td>\n",
       "    </tr>\n",
       "    <tr>\n",
       "      <th>Temperature</th>\n",
       "      <td>21686.0</td>\n",
       "      <td>48.797408</td>\n",
       "      <td>11.248467</td>\n",
       "      <td>11.35</td>\n",
       "      <td>40.200</td>\n",
       "      <td>50.860</td>\n",
       "      <td>57.120</td>\n",
       "      <td>82.27</td>\n",
       "    </tr>\n",
       "    <tr>\n",
       "      <th>Wind Speed</th>\n",
       "      <td>21686.0</td>\n",
       "      <td>9.704390</td>\n",
       "      <td>5.335895</td>\n",
       "      <td>0.00</td>\n",
       "      <td>5.820</td>\n",
       "      <td>8.910</td>\n",
       "      <td>12.750</td>\n",
       "      <td>40.27</td>\n",
       "    </tr>\n",
       "    <tr>\n",
       "      <th>Cloud Cover</th>\n",
       "      <td>21686.0</td>\n",
       "      <td>0.642982</td>\n",
       "      <td>0.206508</td>\n",
       "      <td>0.00</td>\n",
       "      <td>0.590</td>\n",
       "      <td>0.750</td>\n",
       "      <td>0.750</td>\n",
       "      <td>1.00</td>\n",
       "    </tr>\n",
       "    <tr>\n",
       "      <th>UV Index</th>\n",
       "      <td>21686.0</td>\n",
       "      <td>0.769068</td>\n",
       "      <td>1.400542</td>\n",
       "      <td>0.00</td>\n",
       "      <td>0.000</td>\n",
       "      <td>0.000</td>\n",
       "      <td>1.000</td>\n",
       "      <td>7.00</td>\n",
       "    </tr>\n",
       "    <tr>\n",
       "      <th>Visibility</th>\n",
       "      <td>21686.0</td>\n",
       "      <td>6.014229</td>\n",
       "      <td>0.892211</td>\n",
       "      <td>0.00</td>\n",
       "      <td>6.216</td>\n",
       "      <td>6.216</td>\n",
       "      <td>6.216</td>\n",
       "      <td>10.00</td>\n",
       "    </tr>\n",
       "  </tbody>\n",
       "</table>\n",
       "</div>"
      ],
      "text/plain": [
       "                    count       mean        std    min     25%     50%  \\\n",
       "Precip Intensity  21686.0   0.000092   0.009603   0.00   0.000   0.000   \n",
       "Precip Prob       21686.0   0.028037   0.165081   0.00   0.000   0.000   \n",
       "Temperature       21686.0  48.797408  11.248467  11.35  40.200  50.860   \n",
       "Wind Speed        21686.0   9.704390   5.335895   0.00   5.820   8.910   \n",
       "Cloud Cover       21686.0   0.642982   0.206508   0.00   0.590   0.750   \n",
       "UV Index          21686.0   0.769068   1.400542   0.00   0.000   0.000   \n",
       "Visibility        21686.0   6.014229   0.892211   0.00   6.216   6.216   \n",
       "\n",
       "                     75%    max  \n",
       "Precip Intensity   0.000   1.00  \n",
       "Precip Prob        0.000   1.00  \n",
       "Temperature       57.120  82.27  \n",
       "Wind Speed        12.750  40.27  \n",
       "Cloud Cover        0.750   1.00  \n",
       "UV Index           1.000   7.00  \n",
       "Visibility         6.216  10.00  "
      ]
     },
     "execution_count": 8,
     "metadata": {},
     "output_type": "execute_result"
    }
   ],
   "source": [
    "df_wd.describe().T"
   ]
  },
  {
   "cell_type": "code",
   "execution_count": 9,
   "metadata": {},
   "outputs": [],
   "source": [
    "# Precip Intensity has a mean ~ 0 so drop as it will skew predicition\n",
    "df_wd_feat = df_wd.drop(columns=['Precip Intensity'])"
   ]
  },
  {
   "cell_type": "code",
   "execution_count": 10,
   "metadata": {},
   "outputs": [],
   "source": [
    "df_wd_feat['DateTime']= pd.to_datetime(df_wd_feat['DateTime'], infer_datetime_format=True) \n",
    "df_46A['DateTime']= pd.to_datetime(df_46A['DateTime'], infer_datetime_format=True) "
   ]
  },
  {
   "cell_type": "code",
   "execution_count": 11,
   "metadata": {},
   "outputs": [
    {
     "data": {
      "text/html": [
       "<div>\n",
       "<style scoped>\n",
       "    .dataframe tbody tr th:only-of-type {\n",
       "        vertical-align: middle;\n",
       "    }\n",
       "\n",
       "    .dataframe tbody tr th {\n",
       "        vertical-align: top;\n",
       "    }\n",
       "\n",
       "    .dataframe thead th {\n",
       "        text-align: right;\n",
       "    }\n",
       "</style>\n",
       "<table border=\"1\" class=\"dataframe\">\n",
       "  <thead>\n",
       "    <tr style=\"text-align: right;\">\n",
       "      <th></th>\n",
       "      <th>DateTime</th>\n",
       "      <th>Precip Intensity</th>\n",
       "      <th>Precip Prob</th>\n",
       "      <th>Temperature</th>\n",
       "      <th>Wind Speed</th>\n",
       "      <th>Cloud Cover</th>\n",
       "      <th>UV Index</th>\n",
       "      <th>Visibility</th>\n",
       "    </tr>\n",
       "  </thead>\n",
       "  <tbody>\n",
       "    <tr>\n",
       "      <th>0</th>\n",
       "      <td>2017-01-01 00:00:00</td>\n",
       "      <td>0.0</td>\n",
       "      <td>0.0</td>\n",
       "      <td>39.72</td>\n",
       "      <td>7.03</td>\n",
       "      <td>0.75</td>\n",
       "      <td>0.0</td>\n",
       "      <td>6.216</td>\n",
       "    </tr>\n",
       "    <tr>\n",
       "      <th>1</th>\n",
       "      <td>2017-01-01 01:00:00</td>\n",
       "      <td>0.0</td>\n",
       "      <td>0.0</td>\n",
       "      <td>39.79</td>\n",
       "      <td>3.84</td>\n",
       "      <td>0.75</td>\n",
       "      <td>0.0</td>\n",
       "      <td>5.049</td>\n",
       "    </tr>\n",
       "    <tr>\n",
       "      <th>2</th>\n",
       "      <td>2017-01-01 02:00:00</td>\n",
       "      <td>0.0</td>\n",
       "      <td>0.0</td>\n",
       "      <td>38.21</td>\n",
       "      <td>5.91</td>\n",
       "      <td>0.75</td>\n",
       "      <td>0.0</td>\n",
       "      <td>6.216</td>\n",
       "    </tr>\n",
       "    <tr>\n",
       "      <th>3</th>\n",
       "      <td>2017-01-01 03:00:00</td>\n",
       "      <td>0.0</td>\n",
       "      <td>0.0</td>\n",
       "      <td>37.28</td>\n",
       "      <td>7.53</td>\n",
       "      <td>0.75</td>\n",
       "      <td>0.0</td>\n",
       "      <td>6.216</td>\n",
       "    </tr>\n",
       "    <tr>\n",
       "      <th>4</th>\n",
       "      <td>2017-01-01 04:00:00</td>\n",
       "      <td>0.0</td>\n",
       "      <td>0.0</td>\n",
       "      <td>35.74</td>\n",
       "      <td>6.47</td>\n",
       "      <td>0.75</td>\n",
       "      <td>0.0</td>\n",
       "      <td>6.216</td>\n",
       "    </tr>\n",
       "  </tbody>\n",
       "</table>\n",
       "</div>"
      ],
      "text/plain": [
       "              DateTime  Precip Intensity  Precip Prob  Temperature  \\\n",
       "0  2017-01-01 00:00:00               0.0          0.0        39.72   \n",
       "1  2017-01-01 01:00:00               0.0          0.0        39.79   \n",
       "2  2017-01-01 02:00:00               0.0          0.0        38.21   \n",
       "3  2017-01-01 03:00:00               0.0          0.0        37.28   \n",
       "4  2017-01-01 04:00:00               0.0          0.0        35.74   \n",
       "\n",
       "   Wind Speed  Cloud Cover  UV Index  Visibility  \n",
       "0        7.03         0.75       0.0       6.216  \n",
       "1        3.84         0.75       0.0       5.049  \n",
       "2        5.91         0.75       0.0       6.216  \n",
       "3        7.53         0.75       0.0       6.216  \n",
       "4        6.47         0.75       0.0       6.216  "
      ]
     },
     "execution_count": 11,
     "metadata": {},
     "output_type": "execute_result"
    }
   ],
   "source": [
    "df_wd.head(5)"
   ]
  },
  {
   "cell_type": "code",
   "execution_count": 12,
   "metadata": {},
   "outputs": [],
   "source": [
    "mask = (df_wd_feat['DateTime'] > '2018-12-01') & (df_wd_feat['DateTime'] <= '2018-12-31')"
   ]
  },
  {
   "cell_type": "code",
   "execution_count": 13,
   "metadata": {},
   "outputs": [],
   "source": [
    "df_wd_dec = df_wd_feat.loc[mask]"
   ]
  },
  {
   "cell_type": "code",
   "execution_count": 14,
   "metadata": {},
   "outputs": [
    {
     "data": {
      "text/html": [
       "<div>\n",
       "<style scoped>\n",
       "    .dataframe tbody tr th:only-of-type {\n",
       "        vertical-align: middle;\n",
       "    }\n",
       "\n",
       "    .dataframe tbody tr th {\n",
       "        vertical-align: top;\n",
       "    }\n",
       "\n",
       "    .dataframe thead th {\n",
       "        text-align: right;\n",
       "    }\n",
       "</style>\n",
       "<table border=\"1\" class=\"dataframe\">\n",
       "  <thead>\n",
       "    <tr style=\"text-align: right;\">\n",
       "      <th></th>\n",
       "      <th>DateTime</th>\n",
       "      <th>Precip Prob</th>\n",
       "      <th>Temperature</th>\n",
       "      <th>Wind Speed</th>\n",
       "      <th>Cloud Cover</th>\n",
       "      <th>UV Index</th>\n",
       "      <th>Visibility</th>\n",
       "    </tr>\n",
       "  </thead>\n",
       "  <tbody>\n",
       "    <tr>\n",
       "      <th>16768</th>\n",
       "      <td>2018-12-01 01:00:00</td>\n",
       "      <td>0.0</td>\n",
       "      <td>40.94</td>\n",
       "      <td>8.83</td>\n",
       "      <td>0.75</td>\n",
       "      <td>0.0</td>\n",
       "      <td>6.253</td>\n",
       "    </tr>\n",
       "    <tr>\n",
       "      <th>16769</th>\n",
       "      <td>2018-12-01 02:00:00</td>\n",
       "      <td>0.0</td>\n",
       "      <td>41.13</td>\n",
       "      <td>8.16</td>\n",
       "      <td>0.75</td>\n",
       "      <td>0.0</td>\n",
       "      <td>6.264</td>\n",
       "    </tr>\n",
       "    <tr>\n",
       "      <th>16770</th>\n",
       "      <td>2018-12-01 03:00:00</td>\n",
       "      <td>1.0</td>\n",
       "      <td>41.73</td>\n",
       "      <td>7.25</td>\n",
       "      <td>0.75</td>\n",
       "      <td>0.0</td>\n",
       "      <td>6.794</td>\n",
       "    </tr>\n",
       "    <tr>\n",
       "      <th>16771</th>\n",
       "      <td>2018-12-01 04:00:00</td>\n",
       "      <td>1.0</td>\n",
       "      <td>43.31</td>\n",
       "      <td>6.36</td>\n",
       "      <td>0.75</td>\n",
       "      <td>0.0</td>\n",
       "      <td>5.923</td>\n",
       "    </tr>\n",
       "    <tr>\n",
       "      <th>16772</th>\n",
       "      <td>2018-12-01 05:00:00</td>\n",
       "      <td>1.0</td>\n",
       "      <td>40.86</td>\n",
       "      <td>9.46</td>\n",
       "      <td>0.75</td>\n",
       "      <td>0.0</td>\n",
       "      <td>5.889</td>\n",
       "    </tr>\n",
       "  </tbody>\n",
       "</table>\n",
       "</div>"
      ],
      "text/plain": [
       "                 DateTime  Precip Prob  Temperature  Wind Speed  Cloud Cover  \\\n",
       "16768 2018-12-01 01:00:00          0.0        40.94        8.83         0.75   \n",
       "16769 2018-12-01 02:00:00          0.0        41.13        8.16         0.75   \n",
       "16770 2018-12-01 03:00:00          1.0        41.73        7.25         0.75   \n",
       "16771 2018-12-01 04:00:00          1.0        43.31        6.36         0.75   \n",
       "16772 2018-12-01 05:00:00          1.0        40.86        9.46         0.75   \n",
       "\n",
       "       UV Index  Visibility  \n",
       "16768       0.0       6.253  \n",
       "16769       0.0       6.264  \n",
       "16770       0.0       6.794  \n",
       "16771       0.0       5.923  \n",
       "16772       0.0       5.889  "
      ]
     },
     "execution_count": 14,
     "metadata": {},
     "output_type": "execute_result"
    }
   ],
   "source": [
    "df_wd_dec.head(5)"
   ]
  },
  {
   "cell_type": "code",
   "execution_count": 15,
   "metadata": {},
   "outputs": [
    {
     "data": {
      "text/html": [
       "<div>\n",
       "<style scoped>\n",
       "    .dataframe tbody tr th:only-of-type {\n",
       "        vertical-align: middle;\n",
       "    }\n",
       "\n",
       "    .dataframe tbody tr th {\n",
       "        vertical-align: top;\n",
       "    }\n",
       "\n",
       "    .dataframe thead th {\n",
       "        text-align: right;\n",
       "    }\n",
       "</style>\n",
       "<table border=\"1\" class=\"dataframe\">\n",
       "  <thead>\n",
       "    <tr style=\"text-align: right;\">\n",
       "      <th></th>\n",
       "      <th>DateTime</th>\n",
       "      <th>Precip Prob</th>\n",
       "      <th>Temperature</th>\n",
       "      <th>Wind Speed</th>\n",
       "      <th>Cloud Cover</th>\n",
       "      <th>UV Index</th>\n",
       "      <th>Visibility</th>\n",
       "    </tr>\n",
       "  </thead>\n",
       "  <tbody>\n",
       "    <tr>\n",
       "      <th>17483</th>\n",
       "      <td>2018-12-30 20:00:00</td>\n",
       "      <td>0.0</td>\n",
       "      <td>51.31</td>\n",
       "      <td>6.79</td>\n",
       "      <td>0.75</td>\n",
       "      <td>0.0</td>\n",
       "      <td>6.349</td>\n",
       "    </tr>\n",
       "    <tr>\n",
       "      <th>17484</th>\n",
       "      <td>2018-12-30 21:00:00</td>\n",
       "      <td>0.0</td>\n",
       "      <td>51.19</td>\n",
       "      <td>7.41</td>\n",
       "      <td>0.75</td>\n",
       "      <td>0.0</td>\n",
       "      <td>6.085</td>\n",
       "    </tr>\n",
       "    <tr>\n",
       "      <th>17485</th>\n",
       "      <td>2018-12-30 22:00:00</td>\n",
       "      <td>0.0</td>\n",
       "      <td>51.13</td>\n",
       "      <td>10.30</td>\n",
       "      <td>0.75</td>\n",
       "      <td>0.0</td>\n",
       "      <td>6.166</td>\n",
       "    </tr>\n",
       "    <tr>\n",
       "      <th>17486</th>\n",
       "      <td>2018-12-30 23:00:00</td>\n",
       "      <td>0.0</td>\n",
       "      <td>45.97</td>\n",
       "      <td>7.96</td>\n",
       "      <td>0.75</td>\n",
       "      <td>0.0</td>\n",
       "      <td>6.308</td>\n",
       "    </tr>\n",
       "    <tr>\n",
       "      <th>17487</th>\n",
       "      <td>2018-12-31 00:00:00</td>\n",
       "      <td>0.0</td>\n",
       "      <td>46.00</td>\n",
       "      <td>7.94</td>\n",
       "      <td>0.75</td>\n",
       "      <td>0.0</td>\n",
       "      <td>6.311</td>\n",
       "    </tr>\n",
       "  </tbody>\n",
       "</table>\n",
       "</div>"
      ],
      "text/plain": [
       "                 DateTime  Precip Prob  Temperature  Wind Speed  Cloud Cover  \\\n",
       "17483 2018-12-30 20:00:00          0.0        51.31        6.79         0.75   \n",
       "17484 2018-12-30 21:00:00          0.0        51.19        7.41         0.75   \n",
       "17485 2018-12-30 22:00:00          0.0        51.13       10.30         0.75   \n",
       "17486 2018-12-30 23:00:00          0.0        45.97        7.96         0.75   \n",
       "17487 2018-12-31 00:00:00          0.0        46.00        7.94         0.75   \n",
       "\n",
       "       UV Index  Visibility  \n",
       "17483       0.0       6.349  \n",
       "17484       0.0       6.085  \n",
       "17485       0.0       6.166  \n",
       "17486       0.0       6.308  \n",
       "17487       0.0       6.311  "
      ]
     },
     "execution_count": 15,
     "metadata": {},
     "output_type": "execute_result"
    }
   ],
   "source": [
    "df_wd_dec.tail(5)"
   ]
  },
  {
   "cell_type": "markdown",
   "metadata": {},
   "source": [
    "## Add two frame together"
   ]
  },
  {
   "cell_type": "code",
   "execution_count": 16,
   "metadata": {},
   "outputs": [
    {
     "data": {
      "text/plain": [
       "DateTime          2018-12-24 00:00:00\n",
       "Sequence                           14\n",
       "StopID                           6059\n",
       "Planned_Arr                     54291\n",
       "Actual_Arr                      54158\n",
       "Actual_Depart                   54244\n",
       "Extracted_Date              24-DEC-18\n",
       "Day                            Monday\n",
       "Day_Friday                          0\n",
       "Day_Monday                          1\n",
       "Day_Saturday                        0\n",
       "Day_Sunday                          0\n",
       "Day_Thursday                        0\n",
       "Day_Tuesday                         0\n",
       "Day_Wednesday                       0\n",
       "Name: 0, dtype: object"
      ]
     },
     "execution_count": 16,
     "metadata": {},
     "output_type": "execute_result"
    }
   ],
   "source": [
    "df_46A.iloc[0]"
   ]
  },
  {
   "cell_type": "code",
   "execution_count": 17,
   "metadata": {},
   "outputs": [
    {
     "data": {
      "text/plain": [
       "DateTime       2018-12-24 00:00:00\n",
       "Precip Prob                      0\n",
       "Temperature                  39.46\n",
       "Wind Speed                    5.61\n",
       "Cloud Cover                    0.6\n",
       "UV Index                         0\n",
       "Visibility                    6.22\n",
       "Name: 17319, dtype: object"
      ]
     },
     "execution_count": 17,
     "metadata": {},
     "output_type": "execute_result"
    }
   ],
   "source": [
    "df_wd_dec.iloc[551]"
   ]
  },
  {
   "cell_type": "code",
   "execution_count": 18,
   "metadata": {},
   "outputs": [
    {
     "data": {
      "text/plain": [
       "True"
      ]
     },
     "execution_count": 18,
     "metadata": {},
     "output_type": "execute_result"
    }
   ],
   "source": [
    "df_46A.iloc[0].DateTime == df_wd_dec.iloc[551].DateTime"
   ]
  },
  {
   "cell_type": "code",
   "execution_count": 19,
   "metadata": {},
   "outputs": [],
   "source": [
    "df_46A_merge = pd.merge(df_46A, df_wd_dec, how='outer', on='DateTime')"
   ]
  },
  {
   "cell_type": "code",
   "execution_count": 20,
   "metadata": {},
   "outputs": [
    {
     "data": {
      "text/html": [
       "<div>\n",
       "<style scoped>\n",
       "    .dataframe tbody tr th:only-of-type {\n",
       "        vertical-align: middle;\n",
       "    }\n",
       "\n",
       "    .dataframe tbody tr th {\n",
       "        vertical-align: top;\n",
       "    }\n",
       "\n",
       "    .dataframe thead th {\n",
       "        text-align: right;\n",
       "    }\n",
       "</style>\n",
       "<table border=\"1\" class=\"dataframe\">\n",
       "  <thead>\n",
       "    <tr style=\"text-align: right;\">\n",
       "      <th></th>\n",
       "      <th>DateTime</th>\n",
       "      <th>Sequence</th>\n",
       "      <th>StopID</th>\n",
       "      <th>Planned_Arr</th>\n",
       "      <th>Actual_Arr</th>\n",
       "      <th>Actual_Depart</th>\n",
       "      <th>Extracted_Date</th>\n",
       "      <th>Day</th>\n",
       "      <th>Day_Friday</th>\n",
       "      <th>Day_Monday</th>\n",
       "      <th>...</th>\n",
       "      <th>Day_Sunday</th>\n",
       "      <th>Day_Thursday</th>\n",
       "      <th>Day_Tuesday</th>\n",
       "      <th>Day_Wednesday</th>\n",
       "      <th>Precip Prob</th>\n",
       "      <th>Temperature</th>\n",
       "      <th>Wind Speed</th>\n",
       "      <th>Cloud Cover</th>\n",
       "      <th>UV Index</th>\n",
       "      <th>Visibility</th>\n",
       "    </tr>\n",
       "  </thead>\n",
       "  <tbody>\n",
       "    <tr>\n",
       "      <th>0</th>\n",
       "      <td>2018-12-24</td>\n",
       "      <td>14.0</td>\n",
       "      <td>6059.0</td>\n",
       "      <td>54291.0</td>\n",
       "      <td>54158.0</td>\n",
       "      <td>54244.0</td>\n",
       "      <td>24-DEC-18</td>\n",
       "      <td>Monday</td>\n",
       "      <td>0.0</td>\n",
       "      <td>1.0</td>\n",
       "      <td>...</td>\n",
       "      <td>0.0</td>\n",
       "      <td>0.0</td>\n",
       "      <td>0.0</td>\n",
       "      <td>0.0</td>\n",
       "      <td>0.0</td>\n",
       "      <td>39.46</td>\n",
       "      <td>5.61</td>\n",
       "      <td>0.6</td>\n",
       "      <td>0.0</td>\n",
       "      <td>6.22</td>\n",
       "    </tr>\n",
       "    <tr>\n",
       "      <th>1</th>\n",
       "      <td>2018-12-24</td>\n",
       "      <td>15.0</td>\n",
       "      <td>334.0</td>\n",
       "      <td>54462.0</td>\n",
       "      <td>54348.0</td>\n",
       "      <td>54401.0</td>\n",
       "      <td>24-DEC-18</td>\n",
       "      <td>Monday</td>\n",
       "      <td>0.0</td>\n",
       "      <td>1.0</td>\n",
       "      <td>...</td>\n",
       "      <td>0.0</td>\n",
       "      <td>0.0</td>\n",
       "      <td>0.0</td>\n",
       "      <td>0.0</td>\n",
       "      <td>0.0</td>\n",
       "      <td>39.46</td>\n",
       "      <td>5.61</td>\n",
       "      <td>0.6</td>\n",
       "      <td>0.0</td>\n",
       "      <td>6.22</td>\n",
       "    </tr>\n",
       "    <tr>\n",
       "      <th>2</th>\n",
       "      <td>2018-12-24</td>\n",
       "      <td>16.0</td>\n",
       "      <td>406.0</td>\n",
       "      <td>54728.0</td>\n",
       "      <td>54588.0</td>\n",
       "      <td>54646.0</td>\n",
       "      <td>24-DEC-18</td>\n",
       "      <td>Monday</td>\n",
       "      <td>0.0</td>\n",
       "      <td>1.0</td>\n",
       "      <td>...</td>\n",
       "      <td>0.0</td>\n",
       "      <td>0.0</td>\n",
       "      <td>0.0</td>\n",
       "      <td>0.0</td>\n",
       "      <td>0.0</td>\n",
       "      <td>39.46</td>\n",
       "      <td>5.61</td>\n",
       "      <td>0.6</td>\n",
       "      <td>0.0</td>\n",
       "      <td>6.22</td>\n",
       "    </tr>\n",
       "    <tr>\n",
       "      <th>3</th>\n",
       "      <td>2018-12-24</td>\n",
       "      <td>17.0</td>\n",
       "      <td>747.0</td>\n",
       "      <td>54875.0</td>\n",
       "      <td>54773.0</td>\n",
       "      <td>54820.0</td>\n",
       "      <td>24-DEC-18</td>\n",
       "      <td>Monday</td>\n",
       "      <td>0.0</td>\n",
       "      <td>1.0</td>\n",
       "      <td>...</td>\n",
       "      <td>0.0</td>\n",
       "      <td>0.0</td>\n",
       "      <td>0.0</td>\n",
       "      <td>0.0</td>\n",
       "      <td>0.0</td>\n",
       "      <td>39.46</td>\n",
       "      <td>5.61</td>\n",
       "      <td>0.6</td>\n",
       "      <td>0.0</td>\n",
       "      <td>6.22</td>\n",
       "    </tr>\n",
       "    <tr>\n",
       "      <th>4</th>\n",
       "      <td>2018-12-24</td>\n",
       "      <td>18.0</td>\n",
       "      <td>842.0</td>\n",
       "      <td>54961.0</td>\n",
       "      <td>54964.0</td>\n",
       "      <td>54983.0</td>\n",
       "      <td>24-DEC-18</td>\n",
       "      <td>Monday</td>\n",
       "      <td>0.0</td>\n",
       "      <td>1.0</td>\n",
       "      <td>...</td>\n",
       "      <td>0.0</td>\n",
       "      <td>0.0</td>\n",
       "      <td>0.0</td>\n",
       "      <td>0.0</td>\n",
       "      <td>0.0</td>\n",
       "      <td>39.46</td>\n",
       "      <td>5.61</td>\n",
       "      <td>0.6</td>\n",
       "      <td>0.0</td>\n",
       "      <td>6.22</td>\n",
       "    </tr>\n",
       "  </tbody>\n",
       "</table>\n",
       "<p>5 rows × 21 columns</p>\n",
       "</div>"
      ],
      "text/plain": [
       "    DateTime  Sequence  StopID  Planned_Arr  Actual_Arr  Actual_Depart  \\\n",
       "0 2018-12-24      14.0  6059.0      54291.0     54158.0        54244.0   \n",
       "1 2018-12-24      15.0   334.0      54462.0     54348.0        54401.0   \n",
       "2 2018-12-24      16.0   406.0      54728.0     54588.0        54646.0   \n",
       "3 2018-12-24      17.0   747.0      54875.0     54773.0        54820.0   \n",
       "4 2018-12-24      18.0   842.0      54961.0     54964.0        54983.0   \n",
       "\n",
       "  Extracted_Date     Day  Day_Friday  Day_Monday  ...  Day_Sunday  \\\n",
       "0      24-DEC-18  Monday         0.0         1.0  ...         0.0   \n",
       "1      24-DEC-18  Monday         0.0         1.0  ...         0.0   \n",
       "2      24-DEC-18  Monday         0.0         1.0  ...         0.0   \n",
       "3      24-DEC-18  Monday         0.0         1.0  ...         0.0   \n",
       "4      24-DEC-18  Monday         0.0         1.0  ...         0.0   \n",
       "\n",
       "   Day_Thursday  Day_Tuesday  Day_Wednesday  Precip Prob  Temperature  \\\n",
       "0           0.0          0.0            0.0          0.0        39.46   \n",
       "1           0.0          0.0            0.0          0.0        39.46   \n",
       "2           0.0          0.0            0.0          0.0        39.46   \n",
       "3           0.0          0.0            0.0          0.0        39.46   \n",
       "4           0.0          0.0            0.0          0.0        39.46   \n",
       "\n",
       "   Wind Speed  Cloud Cover  UV Index  Visibility  \n",
       "0        5.61          0.6       0.0        6.22  \n",
       "1        5.61          0.6       0.0        6.22  \n",
       "2        5.61          0.6       0.0        6.22  \n",
       "3        5.61          0.6       0.0        6.22  \n",
       "4        5.61          0.6       0.0        6.22  \n",
       "\n",
       "[5 rows x 21 columns]"
      ]
     },
     "execution_count": 20,
     "metadata": {},
     "output_type": "execute_result"
    }
   ],
   "source": [
    "df_46A_merge.head(5)"
   ]
  },
  {
   "cell_type": "code",
   "execution_count": 21,
   "metadata": {},
   "outputs": [],
   "source": [
    "# The weather data contains NaN values so replacing with the mean\n",
    "df_46A_merge = df_46A_merge.fillna(df_46A_merge.mean())"
   ]
  },
  {
   "cell_type": "code",
   "execution_count": 22,
   "metadata": {},
   "outputs": [],
   "source": [
    "df_46A_merge.to_csv('df_46A_final.csv', index=False)"
   ]
  },
  {
   "cell_type": "markdown",
   "metadata": {},
   "source": [
    "# Machine Learning Section"
   ]
  },
  {
   "cell_type": "code",
   "execution_count": 28,
   "metadata": {},
   "outputs": [],
   "source": [
    "import seaborn as sns\n",
    "from sklearn.linear_model import LinearRegression\n",
    "from sklearn.ensemble import RandomForestRegressor\n",
    "from sklearn import svm\n",
    "from sklearn.preprocessing import StandardScaler\n",
    "from sklearn.neural_network import MLPRegressor\n",
    "from sklearn.model_selection import train_test_split\n",
    "from sklearn import metrics\n",
    "from sklearn.metrics import mean_squared_log_error\n",
    "pd.options.mode.chained_assignment=None\n",
    "%matplotlib inline"
   ]
  },
  {
   "cell_type": "markdown",
   "metadata": {},
   "source": [
    "# Section for Random Forest"
   ]
  },
  {
   "cell_type": "code",
   "execution_count": 29,
   "metadata": {},
   "outputs": [
    {
     "data": {
      "text/plain": [
       "RandomForestRegressor(bootstrap=True, criterion='mse', max_depth=15,\n",
       "                      max_features='auto', max_leaf_nodes=None,\n",
       "                      min_impurity_decrease=0.0, min_impurity_split=None,\n",
       "                      min_samples_leaf=1, min_samples_split=2,\n",
       "                      min_weight_fraction_leaf=0.0, n_estimators=20,\n",
       "                      n_jobs=None, oob_score=False, random_state=None,\n",
       "                      verbose=0, warm_start=False)"
      ]
     },
     "execution_count": 29,
     "metadata": {},
     "output_type": "execute_result"
    }
   ],
   "source": [
    "input_to_model_RF=pd.DataFrame(df_46A[['Sequence','StopID','Planned_Arr','Day_Monday','Day_Saturday','Day_Sunday', \n",
    "                                    'Day_Tuesday', 'Day_Thursday','Day_Wednesday']])\n",
    "#Day_Friday has been taken out because if mon-sun all are zeroes that means friday is 1. Using dummy one hot encoding concept\n",
    "#print(input_model)\n",
    "output_RF = df_46A['Actual_Arr']\n",
    "X_train_RF,X_test_RF,Y_train_RF,Y_test_RF=train_test_split(input_to_model_RF,output_RF,test_size=0.2)\n",
    "rf=RandomForestRegressor(max_depth=15,n_estimators=20)\n",
    "rf.fit(X_train_RF,Y_train_RF)"
   ]
  },
  {
   "cell_type": "code",
   "execution_count": 30,
   "metadata": {
    "scrolled": true
   },
   "outputs": [],
   "source": [
    "prediction_RF=rf.predict(X_test_RF)"
   ]
  },
  {
   "cell_type": "code",
   "execution_count": 31,
   "metadata": {},
   "outputs": [
    {
     "name": "stdout",
     "output_type": "stream",
     "text": [
      "393.34070706661043\n"
     ]
    }
   ],
   "source": [
    "#Model Evaluation Parameters: RMSE\n",
    "print(np.sqrt(metrics.mean_squared_error(Y_test_RF,prediction_RF)))"
   ]
  },
  {
   "cell_type": "code",
   "execution_count": 32,
   "metadata": {},
   "outputs": [
    {
     "data": {
      "text/plain": [
       "7.184532227221774e-05"
      ]
     },
     "execution_count": 32,
     "metadata": {},
     "output_type": "execute_result"
    }
   ],
   "source": [
    "#MSLE\n",
    "mean_squared_log_error(Y_test_RF,prediction_RF)"
   ]
  },
  {
   "cell_type": "markdown",
   "metadata": {},
   "source": [
    "## Now to test with the weather data to see if it is worth adding to the VM "
   ]
  },
  {
   "cell_type": "code",
   "execution_count": 33,
   "metadata": {},
   "outputs": [
    {
     "data": {
      "text/plain": [
       "RandomForestRegressor(bootstrap=True, criterion='mse', max_depth=15,\n",
       "                      max_features='auto', max_leaf_nodes=None,\n",
       "                      min_impurity_decrease=0.0, min_impurity_split=None,\n",
       "                      min_samples_leaf=1, min_samples_split=2,\n",
       "                      min_weight_fraction_leaf=0.0, n_estimators=20,\n",
       "                      n_jobs=None, oob_score=False, random_state=None,\n",
       "                      verbose=0, warm_start=False)"
      ]
     },
     "execution_count": 33,
     "metadata": {},
     "output_type": "execute_result"
    }
   ],
   "source": [
    "input_to_model_RFw=pd.DataFrame(df_46A_merge[['Sequence','StopID','Planned_Arr','Day_Monday','Day_Saturday','Day_Sunday',\n",
    "                                          'Day_Tuesday','Day_Thursday','Day_Wednesday', 'Precip Prob', 'Temperature',\n",
    "                                         'Wind Speed', 'Cloud Cover', 'UV Index', 'Visibility']])\n",
    "\n",
    "output_RFw = df_46A_merge['Actual_Arr']\n",
    "X_train_RFw,X_test_RFw,Y_train_RFw,Y_test_RFw=train_test_split(input_to_model_RFw,output_RFw,test_size=0.2)\n",
    "rf=RandomForestRegressor(max_depth=15,n_estimators=20)\n",
    "rf.fit(X_train_RFw,Y_train_RFw)"
   ]
  },
  {
   "cell_type": "code",
   "execution_count": 34,
   "metadata": {},
   "outputs": [],
   "source": [
    "prediction_RFw=rf.predict(X_test_RFw)"
   ]
  },
  {
   "cell_type": "code",
   "execution_count": 35,
   "metadata": {},
   "outputs": [
    {
     "name": "stdout",
     "output_type": "stream",
     "text": [
      "312.7956272850261\n"
     ]
    }
   ],
   "source": [
    "print(np.sqrt(metrics.mean_squared_error(Y_test_RFw,prediction_RFw)))"
   ]
  },
  {
   "cell_type": "markdown",
   "metadata": {},
   "source": [
    "## Weather data only improves model by 20 seconds so won't be added as it increases the file sizes of the pickles for the model and would be wasteful of time to implement"
   ]
  },
  {
   "cell_type": "markdown",
   "metadata": {},
   "source": [
    "# Linear Regression Section"
   ]
  },
  {
   "cell_type": "code",
   "execution_count": 36,
   "metadata": {},
   "outputs": [
    {
     "data": {
      "text/plain": [
       "LinearRegression(copy_X=True, fit_intercept=True, n_jobs=None, normalize=False)"
      ]
     },
     "execution_count": 36,
     "metadata": {},
     "output_type": "execute_result"
    }
   ],
   "source": [
    "input_to_model_LR=pd.DataFrame(df_46A[['Sequence','StopID','Planned_Arr','Day_Monday','Day_Saturday','Day_Sunday', \n",
    "                                    'Day_Tuesday', 'Day_Thursday','Day_Wednesday']])\n",
    "\n",
    "output_LR = df_46A['Actual_Arr']\n",
    "X_train_LR,X_test_LR,Y_train_LR,Y_test_LR=train_test_split(input_to_model_LR,output_LR,test_size=0.2)\n",
    "lr=LinearRegression()\n",
    "lr.fit(X_train_LR,Y_train_LR)"
   ]
  },
  {
   "cell_type": "code",
   "execution_count": 39,
   "metadata": {
    "scrolled": true
   },
   "outputs": [],
   "source": [
    "prediction_LR=lr.predict(X_test_LR)"
   ]
  },
  {
   "cell_type": "code",
   "execution_count": 40,
   "metadata": {},
   "outputs": [
    {
     "name": "stdout",
     "output_type": "stream",
     "text": [
      "443.19990953813715\n"
     ]
    }
   ],
   "source": [
    "print(np.sqrt(metrics.mean_squared_error(Y_test_LR,prediction_LR)))"
   ]
  },
  {
   "cell_type": "markdown",
   "metadata": {},
   "source": [
    "# Support Vector Machine "
   ]
  },
  {
   "cell_type": "code",
   "execution_count": 42,
   "metadata": {},
   "outputs": [],
   "source": [
    "# The SVM takes too long for the whole set so testing it on a \n",
    "# random sample of 100000\n",
    "svm_sample = df_46A.sample(n=10000)"
   ]
  },
  {
   "cell_type": "code",
   "execution_count": 43,
   "metadata": {},
   "outputs": [],
   "source": [
    "input_to_model_SVM=pd.DataFrame(svm_sample[['Sequence','StopID','Planned_Arr','Day_Monday','Day_Saturday',\n",
    "                                            'Day_Sunday', 'Day_Tuesday','Day_Thursday','Day_Wednesday']])\n",
    "\n",
    "output_SVM = pd.DataFrame(svm_sample['Actual_Arr'])"
   ]
  },
  {
   "cell_type": "code",
   "execution_count": 44,
   "metadata": {},
   "outputs": [],
   "source": [
    "feat_scaler = StandardScaler()\n",
    "tar_scaler = StandardScaler()"
   ]
  },
  {
   "cell_type": "code",
   "execution_count": 45,
   "metadata": {},
   "outputs": [],
   "source": [
    "input_to_model_SVM = feat_scaler.fit_transform(input_to_model_SVM)\n",
    "output_SVM = tar_scaler.fit_transform(output_SVM)"
   ]
  },
  {
   "cell_type": "code",
   "execution_count": 46,
   "metadata": {},
   "outputs": [],
   "source": [
    "X_train_SVM,X_test_SVM,Y_train_SVM,Y_test_SVM=train_test_split(input_to_model_SVM,output_SVM,test_size=0.2)"
   ]
  },
  {
   "cell_type": "code",
   "execution_count": 54,
   "metadata": {},
   "outputs": [
    {
     "name": "stderr",
     "output_type": "stream",
     "text": [
      "/anaconda3/envs/dublinbus/lib/python3.7/site-packages/sklearn/utils/validation.py:724: DataConversionWarning: A column-vector y was passed when a 1d array was expected. Please change the shape of y to (n_samples, ), for example using ravel().\n",
      "  y = column_or_1d(y, warn=True)\n"
     ]
    },
    {
     "data": {
      "text/plain": [
       "SVR(C=1.0, cache_size=200, coef0=0.0, degree=3, epsilon=0.1,\n",
       "    gamma='auto_deprecated', kernel='linear', max_iter=-1, shrinking=True,\n",
       "    tol=0.001, verbose=False)"
      ]
     },
     "execution_count": 54,
     "metadata": {},
     "output_type": "execute_result"
    }
   ],
   "source": [
    "svm_model = svm.SVR(kernel='linear')\n",
    "svm_model.fit(X_train_SVM,Y_train_SVM)"
   ]
  },
  {
   "cell_type": "code",
   "execution_count": 55,
   "metadata": {
    "scrolled": true
   },
   "outputs": [],
   "source": [
    "prediction_SVM=svm_model.predict(X_test_SVM)"
   ]
  },
  {
   "cell_type": "code",
   "execution_count": 56,
   "metadata": {},
   "outputs": [
    {
     "data": {
      "text/plain": [
       "0.997755547370531"
      ]
     },
     "execution_count": 56,
     "metadata": {},
     "output_type": "execute_result"
    }
   ],
   "source": [
    "svm_model.score(X_test_SVM,Y_test_SVM)"
   ]
  },
  {
   "cell_type": "code",
   "execution_count": 57,
   "metadata": {},
   "outputs": [
    {
     "name": "stdout",
     "output_type": "stream",
     "text": [
      "0.047761886531414076\n"
     ]
    }
   ],
   "source": [
    "print(np.sqrt(metrics.mean_squared_error(Y_test_SVM,prediction_SVM)))"
   ]
  },
  {
   "cell_type": "markdown",
   "metadata": {},
   "source": [
    "# Neural Network for Regression"
   ]
  },
  {
   "cell_type": "code",
   "execution_count": 58,
   "metadata": {},
   "outputs": [
    {
     "data": {
      "text/plain": [
       "MLPRegressor(activation='relu', alpha=1e-05, batch_size='auto', beta_1=0.9,\n",
       "             beta_2=0.999, early_stopping=False, epsilon=1e-08,\n",
       "             hidden_layer_sizes=(100,), learning_rate='constant',\n",
       "             learning_rate_init=0.001, max_iter=200, momentum=0.9,\n",
       "             n_iter_no_change=10, nesterovs_momentum=True, power_t=0.5,\n",
       "             random_state=1, shuffle=True, solver='lbfgs', tol=0.0001,\n",
       "             validation_fraction=0.1, verbose=False, warm_start=False)"
      ]
     },
     "execution_count": 58,
     "metadata": {},
     "output_type": "execute_result"
    }
   ],
   "source": [
    "input_to_model_NN=pd.DataFrame(df_46A[['Sequence','StopID','Planned_Arr','Day_Monday','Day_Saturday','Day_Sunday', \n",
    "                                    'Day_Tuesday', 'Day_Thursday','Day_Wednesday']])\n",
    "\n",
    "output_NN = df_46A['Actual_Arr']\n",
    "X_train_NN,X_test_NN,Y_train_NN,Y_test_NN=train_test_split(input_to_model_NN,output_NN,test_size=0.2)\n",
    "nn_model = MLPRegressor(solver='lbfgs',alpha=1e-5,random_state=1)\n",
    "nn_model.fit(X_train_NN,Y_train_NN)"
   ]
  },
  {
   "cell_type": "code",
   "execution_count": 61,
   "metadata": {
    "scrolled": true
   },
   "outputs": [],
   "source": [
    "prediction_NN=nn_model.predict(X_test_NN)"
   ]
  },
  {
   "cell_type": "code",
   "execution_count": 62,
   "metadata": {},
   "outputs": [
    {
     "name": "stdout",
     "output_type": "stream",
     "text": [
      "444.5313872085841\n"
     ]
    }
   ],
   "source": [
    "print(np.sqrt(metrics.mean_squared_error(Y_test_NN,prediction_NN)))"
   ]
  },
  {
   "cell_type": "code",
   "execution_count": 63,
   "metadata": {},
   "outputs": [
    {
     "data": {
      "text/plain": [
       "9.091714759722933e-05"
      ]
     },
     "execution_count": 63,
     "metadata": {},
     "output_type": "execute_result"
    }
   ],
   "source": [
    "mean_squared_log_error(Y_test_NN,prediction_NN)"
   ]
  },
  {
   "cell_type": "markdown",
   "metadata": {},
   "source": [
    "# Pickling Section"
   ]
  },
  {
   "cell_type": "markdown",
   "metadata": {},
   "source": [
    "import pickle\n",
    "pickle.dump(rf,open('prediction_46A.pickle','wb'))"
   ]
  },
  {
   "cell_type": "markdown",
   "metadata": {},
   "source": [
    "#Testing with cPickle to see if its faster to unpickle files in django against pickle. Its what we are using now\n",
    "\n",
    "import _pickle as cPickle\n",
    "import gc\n",
    "cPickle.dump(rf,open('prediction_46A_cPickle.pickle','wb'))"
   ]
  }
 ],
 "metadata": {
  "kernelspec": {
   "display_name": "Python 3",
   "language": "python",
   "name": "python3"
  },
  "language_info": {
   "codemirror_mode": {
    "name": "ipython",
    "version": 3
   },
   "file_extension": ".py",
   "mimetype": "text/x-python",
   "name": "python",
   "nbconvert_exporter": "python",
   "pygments_lexer": "ipython3",
   "version": "3.7.1"
  }
 },
 "nbformat": 4,
 "nbformat_minor": 2
}
